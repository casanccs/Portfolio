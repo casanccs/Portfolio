{
 "cells": [
  {
   "cell_type": "code",
   "execution_count": 1,
   "metadata": {
    "_cell_guid": "b1076dfc-b9ad-4769-8c92-a6c4dae69d19",
    "_uuid": "8f2839f25d086af736a60e9eeb907d3b93b6e0e5",
    "execution": {
     "iopub.execute_input": "2020-08-26T21:45:39.962836Z",
     "iopub.status.busy": "2020-08-26T21:45:39.962165Z",
     "iopub.status.idle": "2020-08-26T21:45:39.965206Z",
     "shell.execute_reply": "2020-08-26T21:45:39.965620Z"
    },
    "papermill": {
     "duration": 0.018963,
     "end_time": "2020-08-26T21:45:39.965839",
     "exception": false,
     "start_time": "2020-08-26T21:45:39.946876",
     "status": "completed"
    },
    "tags": []
   },
   "outputs": [],
   "source": [
    "# This Python 3 environment comes with many helpful analytics libraries installed\n",
    "# It is defined by the kaggle/python Docker image: https://github.com/kaggle/docker-python\n",
    "# For example, here's several helpful packages to load\n",
    "\n",
    "import numpy as np # linear algebra\n",
    "import pandas as pd # data processing, CSV file I/O (e.g. pd.read_csv)\n",
    "import matplotlib.pyplot as plt\n",
    "# Input data files are available in the read-only \"../input/\" directory\n",
    "# For example, running this (by clicking run or pressing Shift+Enter) will list all files under the input directory\n",
    "\n",
    "import os\n",
    "for dirname, _, filenames in os.walk('/kaggle/input'):\n",
    "    for filename in filenames:\n",
    "        print(os.path.join(dirname, filename))\n",
    "\n",
    "# You can write up to 5GB to the current directory (/kaggle/working/) that gets preserved as output when you create a version using \"Save & Run All\" \n",
    "# You can also write temporary files to /kaggle/temp/, but they won't be saved outside of the current session"
   ]
  },
  {
   "cell_type": "markdown",
   "execution_count": null,
   "metadata": {
    "papermill": {
     "duration": 0.007241,
     "end_time": "2020-08-26T21:45:39.983519",
     "exception": false,
     "start_time": "2020-08-26T21:45:39.976278",
     "status": "completed"
    },
    "tags": []
   },
   "source": [
    "# Prerequisites\n",
    "1. Basis\n",
    "2. Linear Transformation\n",
    "3. Null Space\n",
    "4. Invertability\n",
    "5. Determinants"
   ]
  },
  {
   "cell_type": "markdown",
   "execution_count": null,
   "metadata": {
    "papermill": {
     "duration": 0.0073,
     "end_time": "2020-08-26T21:45:39.998804",
     "exception": false,
     "start_time": "2020-08-26T21:45:39.991504",
     "status": "completed"
    },
    "tags": []
   },
   "source": [
    "# What is an Eigenvalue and Eigenvector"
   ]
  },
  {
   "cell_type": "markdown",
   "execution_count": null,
   "metadata": {
    "papermill": {
     "duration": 0.007285,
     "end_time": "2020-08-26T21:45:40.013638",
     "exception": false,
     "start_time": "2020-08-26T21:45:40.006353",
     "status": "completed"
    },
    "tags": []
   },
   "source": [
    "Take a linear Transformation, $T$, and apply it to some vector, ${v}$. Let's say that after applying the transformation, the vector, $T(v)$, still points in the direction $v$ points in. The difference between $T(v)$ and $v$ being that $T(v)$ is scaled, be it longer or shorter, by some factor, $\\lambda$. Written here mathematically as:\n",
    "\n",
    "$$T(v) = \\lambda{v}$$"
   ]
  },
  {
   "cell_type": "markdown",
   "execution_count": null,
   "metadata": {
    "papermill": {
     "duration": 0.007002,
     "end_time": "2020-08-26T21:45:40.028364",
     "exception": false,
     "start_time": "2020-08-26T21:45:40.021362",
     "status": "completed"
    },
    "tags": []
   },
   "source": [
    "v is the Eigenvector here, and $\\lambda$ is the Eigenvalue here.\n",
    "\n",
    "By definition: If $T$ is a linear transformation from a vector space $V$ over a field $F$ into itself and $v$ is a nonzero vector in $V$, then $v$ is an eigenvector of $T$ if $T(v)$ is a scalar multiple of $v$. where λ is a scalar in $F$, known as the eigenvalue, characteristic value, or characteristic root associated with $v$. \n",
    "(Source: Wikipedia) $$$$\n",
    "In terms of matrices, we would typically see:\n",
    "$$Av = \\lambda{v}$$\n",
    "Where $A$ is an $nxn$ matrix. $$$$\n",
    "If a set of eigenvectors of T forms a basis of the domain of T, then this basis is called an eigenbasis. (Source: Wikipedia)"
   ]
  },
  {
   "cell_type": "markdown",
   "execution_count": null,
   "metadata": {
    "papermill": {
     "duration": 0.00739,
     "end_time": "2020-08-26T21:45:40.043314",
     "exception": false,
     "start_time": "2020-08-26T21:45:40.035924",
     "status": "completed"
    },
    "tags": []
   },
   "source": [
    "Another example of an \"eigen\" thing, is if we take the differential function, $\\frac{d}{dx}$ as our linear transformation. This will give us an **\"eigenfunction\"**.\n",
    "$$\\frac{d}{dx}e^{\\lambda{x}} = \\lambda{e^{\\lambda{x}}}$$\n",
    "Here, the $e^{\\lambda{x}}$ is the eigenfunction, and $\\lambda$ is the eigenvalue."
   ]
  },
  {
   "cell_type": "markdown",
   "execution_count": null,
   "metadata": {
    "papermill": {
     "duration": 0.007074,
     "end_time": "2020-08-26T21:45:40.058993",
     "exception": false,
     "start_time": "2020-08-26T21:45:40.051919",
     "status": "completed"
    },
    "tags": []
   },
   "source": [
    "# Examples"
   ]
  },
  {
   "cell_type": "markdown",
   "execution_count": null,
   "metadata": {
    "papermill": {
     "duration": 0.006962,
     "end_time": "2020-08-26T21:45:40.073432",
     "exception": false,
     "start_time": "2020-08-26T21:45:40.066470",
     "status": "completed"
    },
    "tags": []
   },
   "source": [
    "Imagine if we just take the identity matrix as A:\n",
    "\n",
    "$$\\mathbf{A} = \\left[ \\begin{array}{ccc} 1 & 0 & 0\\\\ 0 & 1 & 0 \\\\ 0 & 0 & 1 \\end{array}\\right]$$\n",
    "\n",
    "Then we apply it to the \"eigenquation\":\n",
    "\n",
    "$$\\left[ \\begin{array}{ccc} 1 & 0 & 0\\\\ 0 & 1 & 0 \\\\ 0 & 0 & 1 \\end{array}\\right]x = \\lambda{x}$$\n",
    "$$$$\n",
    "* We are in a 3-D space that spans all of $\\mathbb{R}^3$ because of the basis vectors: $\\left[\\left(\\begin{array}{c} 1 \\\\ 0 \\\\ 0 \\end{array}\\right),\\left(\\begin{array}{c} 0 \\\\ 1 \\\\ 0 \\end{array}\\right), \\left(\\begin{array}{c} 0 \\\\ 0 \\\\ 1 \\end{array}\\right)\\right]$ from $A$.\n",
    "* If we take any vector from $\\mathbb{R}^3$ and apply $A$ to it, we will just end up getting the same vector scaled by 1. So in this case:\n",
    "    1. Every vector in $\\mathbb{R}^3$ is an eigenvector.\n",
    "    2. The only eigenvalue is $\\lambda = 1$.\n",
    "\n",
    "Let's now assume:\n",
    "\n",
    "$$\\left[ \\begin{array}{ccc} 2 & 0 & 0\\\\ 0 & 2 & 0 \\\\ 0 & 0 & 2 \\end{array}\\right]x = \\lambda{x}$$"
   ]
  },
  {
   "cell_type": "markdown",
   "execution_count": null,
   "metadata": {
    "papermill": {
     "duration": 0.00726,
     "end_time": "2020-08-26T21:45:40.088104",
     "exception": false,
     "start_time": "2020-08-26T21:45:40.080844",
     "status": "completed"
    },
    "tags": []
   },
   "source": [
    "* We can see that this will only scale the vectors by 2, which means every vector is an eigenvector, and $\\lambda = 2$."
   ]
  },
  {
   "cell_type": "markdown",
   "execution_count": null,
   "metadata": {
    "papermill": {
     "duration": 0.007177,
     "end_time": "2020-08-26T21:45:40.102967",
     "exception": false,
     "start_time": "2020-08-26T21:45:40.095790",
     "status": "completed"
    },
    "tags": []
   },
   "source": [
    "Let:\n",
    "    $$A = \\left[\\begin{array}{ccc} 2 & 0 & 0 \\\\ 0 & 1 & 0 \\\\ 0 & 0 & 1 \\end{array}\\right]$$\n",
    "* Let's find the eigenvectors and eigenvalues by trial and error.\n",
    "    1. Let's try $x = \\left(\\begin{array}{c} 1 \\\\ 1 \\\\ 1 \\end{array}\\right)$ :\n",
    "        $$\\left[\\begin{array}{ccc} 2 & 0 & 0 \\\\ 0 & 1 & 0 \\\\ 0 & 0 & 1 \\end{array}\\right]\\left(\\begin{array}{c} 1 \\\\ 1 \\\\ 1 \\end{array}\\right) = \\left(\\begin{array}{c} 2 \\\\ 1 \\\\ 1 \\end{array}\\right)$$$$$$\n",
    "        This cannot be in the form of $Ax = \\lambda{x}$. Thus, $\\left(\\begin{array}{c} 1 \\\\ 1\\\\ 1 \\end{array}\\right)$ cannot be an eigenvector.\n",
    "    2. Let's try $x = \\left(\\begin{array}{c} 0 \\\\ a \\\\ b \\end{array}\\right)$ :\n",
    "        $$\\left[\\begin{array}{ccc} 2 & 0 & 0 \\\\ 0 & 1 & 0 \\\\ 0 & 0 & 1 \\end{array}\\right]\\left(\\begin{array}{c} 0 \\\\ a \\\\ b \\end{array}\\right) = \\left(\\begin{array}{c} 0 \\\\ a \\\\ b \\end{array}\\right)$$\n",
    "        This means any vector of the form: $\\left(\\begin{array}{c} 0 \\\\ a \\\\ b \\end{array}\\right)$ is an eigenvector, with $\\lambda = 1$."
   ]
  },
  {
   "cell_type": "markdown",
   "execution_count": null,
   "metadata": {
    "papermill": {
     "duration": 0.006996,
     "end_time": "2020-08-26T21:45:40.117433",
     "exception": false,
     "start_time": "2020-08-26T21:45:40.110437",
     "status": "completed"
    },
    "tags": []
   },
   "source": [
    "# How to find the Eigenvalues and Eigenvectors"
   ]
  },
  {
   "cell_type": "markdown",
   "execution_count": null,
   "metadata": {
    "papermill": {
     "duration": 0.007458,
     "end_time": "2020-08-26T21:45:40.132174",
     "exception": false,
     "start_time": "2020-08-26T21:45:40.124716",
     "status": "completed"
    },
    "tags": []
   },
   "source": [
    "Since we know that the \"eigenfunction\" is always $Ax = \\lambda{x}$ if we represent the linear transformation as an $nxn$ matrix, we can apply this to every problem:\n",
    "$$Ax = \\lambda{x} = \\lambda{I}x$$\n",
    "$$Ax - \\lambda{Ix} = 0$$\n",
    "$$(A - \\lambda{I)}x = 0$$\n",
    " \n",
    "1. Since $(A - \\lambda{I})$ is a linear transformation and knowing $x$ has to be a non-trivial solution like a Since $x$ has to be a non-trivial solution to this equation, $x \\ \\epsilon \\ {null[(A - \\lambda{I})]}$ or, $x \\ \\epsilon$ kernel.\n",
    "2. This means that $(A - \\lambda{I})$ is non-invertible.\n",
    "3. So $det(A - \\lambda{I})$ $=$ $0$.\n",
    "\n",
    "The key to solve for the eigenvalues, is to solve:\n",
    "$$det(A - \\lambda{I}) = 0$$\n",
    "This gives us the **characteristic polynomial**."
   ]
  },
  {
   "cell_type": "markdown",
   "execution_count": null,
   "metadata": {
    "papermill": {
     "duration": 0.007064,
     "end_time": "2020-08-26T21:45:40.146535",
     "exception": false,
     "start_time": "2020-08-26T21:45:40.139471",
     "status": "completed"
    },
    "tags": []
   },
   "source": [
    "Let's assume that we found an eigenvalue, $\\lambda{}_1$. To find an eigenvector, you just plug in $\\lambda{}_1$ into $(A - \\lambda{I})x = 0$ and find $x$. We can show this by example:\n",
    "$$A = \\left[\\begin{array}{ccc} 2 & 1 & 0 \\\\ 0 & 1 & 0 \\\\ 0 & 0 & 1 \\end{array}\\right]$$\n",
    "\n",
    "$$A - \\lambda{I} = \\left[\\begin{array}{ccc} 2 - \\lambda & 1 & 0 \\\\ 0 & 1 - \\lambda & 0 \\\\ 0 & 0 & 1 - \\lambda \\end{array}\\right]$$\n",
    "\n",
    "$$det(A - \\lambda{I}) = (2 - \\lambda{)}(1 - \\lambda{)}(1 - \\lambda{)}$$\n",
    "\n",
    "The eigenvalues are: $\\lambda{}_1 = 1$ and $\\lambda{}_2 = 2$, but a key note here is that there is a \"multiplicity\" of 2 for eigenvalue, $\\lambda = 1$.\n",
    "\n",
    "1. Plugging in $\\lambda = 1$:\n",
    "    \n",
    "    $$A - (1)I = \\left[\\begin{array}{ccc} 2 - 1 & 1 & 0 \\\\ 0 & 1 - 1 & 0 \\\\ 0 & 0 & 1 - 1 \\end{array}\\right] = \\left[\\begin{array}{ccc} 1 & 1 & 0 \\\\ 0 & 0 & 0 \\\\ 0 & 0 & 0 \\end{array}\\right]$$\n",
    "    \n",
    "    Now we find $[A - (1)I]x = 0$:\n",
    "    \n",
    "    $$\\left[\\begin{array}{ccc} 1 & 1 & 0 \\\\ 0 & 0 & 0 \\\\ 0 & 0 & 0 \\end{array}\\right]x = 0$$\n",
    "    \n",
    "    $$\\left[\\begin{array}{ccc} 1 & 1 & 0 \\\\ 0 & 0 & 0 \\\\ 0 & 0 & 0 \\end{array}\\right]x = \\left(\\begin{array}{c} 0 \\\\ 0 \\\\ 0 \\end{array}\\right)$$\n",
    "    \n",
    "    $$\\left[\\begin{array}{ccc} 1 & 1 & 0 \\\\ 0 & 0 & 0 \\\\ 0 & 0 & 0 \\end{array}\\right]\\left(\\begin{array}{c} x_0 \\\\ x_1 \\\\ x_2 \\end{array}\\right) = \\left(\\begin{array}{c} 0 \\\\ 0 \\\\ 0 \\end{array}\\right)$$\n",
    "    \n",
    "    $$\\left(\\begin{array}{c} x_0 + x_1 \\\\ 0 \\\\ 0 \\end{array}\\right) = \\left(\\begin{array}{c} 0 \\\\ 0 \\\\ 0 \\end{array}\\right)$$\n",
    "    \n",
    "    This implies $x_0 = -x_1$. So any vector that has $x_0 = -x_1$ gives us an eigenvector with the corresponding eigenvalue, $\\lambda = 1$. $$$$\n",
    "    Examples of eigenvectors for $\\lambda = 1$:\n",
    "    \n",
    "    $$\\left[\\left(\\begin{array}{c} 1 \\\\ -1 \\\\ 0 \\end{array}\\right), \\left(\\begin{array}{c} 60 \\\\ -60 \\\\ 99 \\end{array}\\right), \\left(\\begin{array}{c} 0 \\\\ 0 \\\\ 5 \\end{array}\\right)\\right]$$\n",
    "    \n",
    "    Check:\n",
    "    \n",
    "    $$\\left[\\begin{array}{ccc} 2 & 1 & 0 \\\\ 0 & 1 & 0 \\\\ 0 & 0 & 1 \\end{array}\\right]\\left(\\begin{array}{c} 1 \\\\ -1 \\\\ 0 \\end{array}\\right) = \\left(\\begin{array}{c} 1 \\\\ -1 \\\\ 0 \\end{array}\\right)$$\n",
    "2. You would do the same with $\\lambda = 2$"
   ]
  },
  {
   "cell_type": "markdown",
   "execution_count": null,
   "metadata": {
    "papermill": {
     "duration": 0.007043,
     "end_time": "2020-08-26T21:45:40.161024",
     "exception": false,
     "start_time": "2020-08-26T21:45:40.153981",
     "status": "completed"
    },
    "tags": []
   },
   "source": [
    "# Cool Properties of Eigenvalues"
   ]
  },
  {
   "cell_type": "markdown",
   "execution_count": null,
   "metadata": {
    "papermill": {
     "duration": 0.007252,
     "end_time": "2020-08-26T21:45:40.175657",
     "exception": false,
     "start_time": "2020-08-26T21:45:40.168405",
     "status": "completed"
    },
    "tags": []
   },
   "source": [
    "1. The trace of matrix $A$, $Tr(A)$, is also the sum of the eigenvalues of that matrix.\n",
    "2. The determinant of matrix $A$, $det(A)$, is also the product of the eigenvalues of that matrix.\n",
    "3. If you take matrix $A$ to the power of $k$, all of it's eigenvalues also raise to the power of $k$.\n",
    "4. The matrix is invertible if and only if every eigenvalue is non-zero.\n",
    "5. If you take matrix $A$ and apply some polynomial, $P$, to it, then the eigenvalues will also get raised to power $P$.\n",
    "    * ex: $A^2 + 2*A + 5$ will give eigenvalues: $\\lambda{}_i^2 + 2*\\lambda_i + 5$ for each eigenvalue, $\\lambda_i$.\n"
   ]
  },
  {
   "cell_type": "markdown",
   "execution_count": null,
   "metadata": {
    "papermill": {
     "duration": 0.007335,
     "end_time": "2020-08-26T21:45:40.190378",
     "exception": false,
     "start_time": "2020-08-26T21:45:40.183043",
     "status": "completed"
    },
    "tags": []
   },
   "source": [
    "# Eigenspaces, algebraic and geometric multiplicity"
   ]
  },
  {
   "cell_type": "markdown",
   "execution_count": null,
   "metadata": {
    "papermill": {
     "duration": 0.007067,
     "end_time": "2020-08-26T21:45:40.205194",
     "exception": false,
     "start_time": "2020-08-26T21:45:40.198127",
     "status": "completed"
    },
    "tags": []
   },
   "source": [
    "### Algebraic multiplicity\n",
    "\n",
    "From our previous question, where $A = \\left[\\begin{array}{ccc} 2 & 1 & 0 \\\\ 0 & 1 & 0 \\\\ 0 & 0 & 1 \\end{array}\\right]$, we ended up with our characteristic polynomial:\n",
    "\n",
    "$$det(A - \\lambda{I}) = (2 - \\lambda{)}(1 - \\lambda{)}(1 - \\lambda{)}$$\n",
    "\n",
    "Eigenvalues: $\\lambda_1 = 1, \\lambda_2 = 2$.\n",
    "By definition, algebraic multiplicity of $\\lambda_i$ , $\\mu_A(\\lambda_i)$, is the highest order you can make $(\\lambda_i - \\lambda)^k$ to \"evenly\" divide the characteristic polynomial.$$$$\n",
    "1. In our question with $A$, we can find the algebraic multiplicity of $\\lambda_2 = 2$ by plugging in $\\lambda_2$ into $(\\lambda_i - \\lambda)^k$, giving us:\n",
    "\n",
    "    $$(2 - \\lambda)^k$$\n",
    "\n",
    "    Now we divide the characteristic polynomial:\n",
    "\n",
    "    $$\\frac{det(A - \\lambda{I})}{(2 - \\lambda)^k} = \\frac{(2 - \\lambda{)}(1 - \\lambda{)}(1 - \\lambda{)}}{(2 - \\lambda)^k}$$\n",
    "\n",
    "    If we let $k = 1$:\n",
    "\n",
    "    $$\\frac{det(A - \\lambda{I})}{(2 - \\lambda)^1} = \\frac{(2 - \\lambda{)}(1 - \\lambda{)}(1 - \\lambda{)}}{(2 - \\lambda)^1} = (1 - \\lambda{)}(1 - \\lambda{)}$$\n",
    "\n",
    "    This divides the characteristic polynomial evenly. Now let's try $k = 2$:\n",
    "\n",
    "    $$\\frac{det(A - \\lambda{I})}{(2 - \\lambda)^2} = \\frac{(2 - \\lambda{)}(1 - \\lambda{)}(1 - \\lambda{)}}{(2 - \\lambda)^2} = \\frac{(1 - \\lambda{)}(1 - \\lambda{)}}{(2 - \\lambda)^1}$$\n",
    "\n",
    "    This does **NOT** divide the characteristic polynomial evenly, therefore, the algebraic multiplicity of $\\lambda_2 = 1$, or $\\mu_A(\\lambda_2) = 1$.\n",
    "    \n",
    "2. Now let's find $\\mu_A(\\lambda_1)$, where $\\lambda_1 = 1$:\n",
    "\n",
    "    $$\\frac{det(A - \\lambda{I})}{(1 - \\lambda)^k} = \\frac{(2 - \\lambda{)}(1 - \\lambda{)}(1 - \\lambda{)}}{(1 - \\lambda)^k}$$\n",
    "    \n",
    "    Let k = 1:\n",
    "    \n",
    "    $$\\frac{det(A - \\lambda{I})}{(1 - \\lambda)^1} = \\frac{(2 - \\lambda{)}(1 - \\lambda{)}(1 - \\lambda{)}}{(1 - \\lambda)^1} = (2 - \\lambda{)}(1 - \\lambda{)}$$\n",
    "    \n",
    "    Let k = 2:\n",
    "    \n",
    "    $$\\frac{det(A - \\lambda{I})}{(1 - \\lambda)^2} = \\frac{(2 - \\lambda{)}(1 - \\lambda{)}(1 - \\lambda{)}}{(1 - \\lambda)^2} = (2 - \\lambda{)}$$\n",
    "    \n",
    "    Let k = 3:\n",
    "    \n",
    "    $$\\frac{det(A - \\lambda{I})}{(1 - \\lambda)^3} = \\frac{(2 - \\lambda{)}(1 - \\lambda{)}(1 - \\lambda{)}}{(1 - \\lambda)^3} = \\frac{(2 - \\lambda{)}}{(1 - \\lambda{)}^1}$$\n",
    "    \n",
    "    Therefore, $\\mu_A(\\lambda_1) = 2$.\n",
    "* An important property of the Algebraic Multiplicity is that:\n",
    "\n",
    "$$ 1 \\leq \\mu_A(\\lambda_i) \\leq n $$\n",
    "\n",
    "Where $n$ is the dimension of the matrix. This is because we know that:\n",
    "\n",
    "$$det(A - \\lambda{I}) = (\\lambda - \\lambda_1)^{\\mu_A(\\lambda_1)}(\\lambda - \\lambda_2)^{\\mu_A(\\lambda_2)}...(\\lambda - \\lambda_d)^{\\mu_A(\\lambda_d)}$$\n",
    "\n",
    "Where $d$ is the distinct number of eigenvalues. We can finally say:\n",
    "\n",
    "$$\\sum_{i = 1}^d\\mu_A(\\lambda_i) = n$$"
   ]
  },
  {
   "cell_type": "markdown",
   "execution_count": null,
   "metadata": {
    "papermill": {
     "duration": 0.007503,
     "end_time": "2020-08-26T21:45:40.220193",
     "exception": false,
     "start_time": "2020-08-26T21:45:40.212690",
     "status": "completed"
    },
    "tags": []
   },
   "source": [
    "### Eigenspaces\n",
    "\n",
    "Let's take the same matrix, $A = \\left[\\begin{array}{ccc} 2 & 1 & 0 \\\\ 0 & 1 & 0 \\\\ 0 & 0 & 1 \\end{array}\\right]$, and it's eigenvalue, $\\lambda_1 = 1$. The **Eigenspace** of \\lambda_1 is:\n",
    "\n",
    "$$E = \\{v: (A - \\lambda_1{I})v = 0\\}$$\n",
    "\n",
    "Basically, the **Eigenspace**, $E$, of $\\lambda_i$, is the kernel of this matrix in respect to the eigenvalue itself, $(A - \\lambda_i{I})$.\n",
    "\n",
    "For our example, the eigenspace of $A$ with $\\lambda_1 = 1$ is:\n",
    "\n",
    "$$E = \\left[\\begin{array}{c} -x_1 \\\\ x_1 \\\\ x_2 \\end{array}\\right]$$\n",
    "\n",
    "Where $x_1$ and $x_2$ can be any real number.\n",
    "\n",
    "* Properties that stem because of $E$ being the kernel/nullspace, thus being a **Linear Subspace**:\n",
    "    1. **Closed under Addition**: If we have two vectors $u$,$v$ $\\epsilon$ $E$, $A(u + v) = \\lambda_i(u + v)$.\n",
    "    2. **Closed under Scalar Multiplication**: If $\\alpha$ is a scalar multiple, and $u$ $\\epsilon$ $E$, then $A(\\alpha u) = \\lambda (\\alpha u)$\n",
    "    3. Geometric Multiplicity = Nullity of $(A - \\lambda_i(I))$"
   ]
  },
  {
   "cell_type": "markdown",
   "execution_count": null,
   "metadata": {
    "papermill": {
     "duration": 0.00717,
     "end_time": "2020-08-26T21:45:40.234961",
     "exception": false,
     "start_time": "2020-08-26T21:45:40.227791",
     "status": "completed"
    },
    "tags": []
   },
   "source": [
    "### Geometric Multiplicity\n",
    "\n",
    "The dimension of the eigenspace, $E$, in respect to $\\lambda_i$, or the number of linearly independent eigenvectors in the eigenspace is known as the **Geometric Multiplicity** of $\\lambda_i$, or $\\gamma_A(\\lambda_i)$.\n",
    "\n",
    "$$\\gamma_A(\\lambda_i) = n - rank(A - \\lambda_iI)$$\n",
    "\n",
    "Lets try this by example, where $A = \\left[\\begin{array}{ccc} 2 & 1 & 0 \\\\ 0 & 1 & 0 \\\\ 0 & 0 & 1 \\end{array}\\right]$ and $\\lambda_1 = 1$:\n",
    "\n",
    "$$\\gamma_A(\\lambda_i) = 3 - rank(\\left[\\begin{array}{ccc} 1 & 1 & 0 \\\\ 0 & 0 & 0 \\\\ 0 & 0 & 0 \\end{array}\\right])$$\n",
    "\n",
    "$$\\gamma_A(\\lambda_i) = 3 - 1$$\n",
    "\n",
    "$$\\gamma_A(\\lambda_i) = 2$$\n",
    "\n",
    "The important inequality relating geometric and algebraic multiplicities is:\n",
    "\n",
    "$$1 \\leq \\gamma_A(\\lambda_i) \\leq \\mu_A(\\lambda_i) \\leq n$$\n",
    "\n",
    "But the proof for this requires knowledge of orthnormal matrices and their properties."
   ]
  },
  {
   "cell_type": "markdown",
   "execution_count": null,
   "metadata": {
    "papermill": {
     "duration": 0.007148,
     "end_time": "2020-08-26T21:45:40.249611",
     "exception": false,
     "start_time": "2020-08-26T21:45:40.242463",
     "status": "completed"
    },
    "tags": []
   },
   "source": [
    "# Eigendecomposition and Diagonalization"
   ]
  },
  {
   "cell_type": "markdown",
   "execution_count": null,
   "metadata": {
    "papermill": {
     "duration": 0.007123,
     "end_time": "2020-08-26T21:45:40.264098",
     "exception": false,
     "start_time": "2020-08-26T21:45:40.256975",
     "status": "completed"
    },
    "tags": []
   },
   "source": [
    "## Prerequisites\n",
    "\n",
    "0. Eigenvalues and Eigenvectors\n",
    "1. Change of Basis\n",
    "2. Similarity Transformation"
   ]
  },
  {
   "cell_type": "markdown",
   "execution_count": null,
   "metadata": {
    "papermill": {
     "duration": 0.007125,
     "end_time": "2020-08-26T21:45:40.278549",
     "exception": false,
     "start_time": "2020-08-26T21:45:40.271424",
     "status": "completed"
    },
    "tags": []
   },
   "source": [
    "By def. we know that given square matrix $A$, eigenvector $v_1$, and eigenvalue $\\lambda_1$: \n",
    "$$Av_1 = \\lambda_1{x}$$\n",
    "But, if we add in another eigenvector, $v_2$, we will end up with:\n",
    "\n",
    "$$A\\left[v_1,v_2\\right] = \\left[\\lambda_1{v_1},\\lambda_2{v_2}\\right]$$\n",
    "\n",
    "We can also get the same thing by applying a diagonal matrix with the eigenvalues as it's entries:\n",
    "\n",
    "$$\\left[\\lambda_1{v_1},\\lambda_2{v_2}\\right] = \\left[\\begin{array}{cc} \\lambda_1 & 0 \\\\ 0 & \\lambda_2 \\end{array}\\right]\\left[v_1,v_2\\right] = \\left[v_1,v_2\\right]\\left[\\begin{array}{cc} \\lambda_1 & 0 \\\\ 0 & \\lambda_2 \\end{array}\\right]$$\n",
    "\n",
    "Now we will give a general explanation:\n",
    "$$$$\n",
    "Suppose we have an $nxn$ matrix, $A$, that has eigenvalues: $\\left[\\lambda_1,\\lambda_2,...\\lambda_n\\right]$, and linearly independent eigenvectors: $\\left[v_1,v_2,...v_n\\right]$ that are associated with said eigenvalues. We can take those eigenvectors each of dimension/shape: $nx1$ / $(n,1)$, and combine them side-by-side to make a square matrix: $$Q = \\left[\\begin{array}{ccc} | & ... & | \\\\ v_1 & ... & v_n \\\\ | & ... & | \\end{array}\\right]$$\n",
    "This is of dimension/shape, $nxn$ / $(n,1)$. $$$$\n",
    "\n",
    "Applying $AQ$ will then yield:\n",
    "$$AQ = \\left[\\begin{array}{ccc} | & ... & | \\\\ \\lambda_1v_1 & ... & \\lambda_nv_n \\\\ | & ... & | \\end{array}\\right]$$\n",
    "\n",
    "As seen above, if we let $\\Lambda$ be the diagonal matrix whose $\\Lambda_j{}_j$ entries are the respective $i$th column in Q so they correspond with the correct eigenvector, we get:\n",
    "\n",
    "$$\\Lambda = \\left[\\begin{array}{ccc} \\lambda_1 & ... & 0\\\\ ... & ... & ... \\\\ 0 & ... & \\lambda_n \\end{array}\\right]$$\n",
    "\n",
    "$$AQ = Q\\Lambda = \\left[\\begin{array}{ccc} | & ... & | \\\\ \\lambda_1v_1 & ... & \\lambda_nv_n \\\\ | & ... & | \\end{array}\\right]$$\n",
    "\n",
    "Since we know that $Q$ is linearly independent, then $Q$ is invertible and has an inverse, $Q^{-1}$. So we will apply the right multiplication to leave matrix $A$ alone:\n",
    "\n",
    "$$AQQ^{-1} = A = Q\\Lambda{Q^{-1}}$$\n",
    "\n",
    "From this equation, we see that $A$ can be decomposed into a matrix containing its eigenvectors, a diagonal matrix with it's eigenvalues, and the inverse of said eigenvector matrix, all multiplied together.We call matrix $A$, **\"Diagonalizable\"**. This, is the **\"Eigendecomposition\"** of $A$, and is a similarity transformation. What we can get from the similarity transformation, is that matrix $A$ and diagonal matrix $\\Lambda$ are both linear transformations, it's just that $\\Lambda$ linearly transforms another basis, that basis being $Q$, i.e. the basis is the eigenvectors. This means that the matrix $Q$ is the change of basis matrix for the similarity transformation."
   ]
  },
  {
   "cell_type": "markdown",
   "execution_count": null,
   "metadata": {
    "papermill": {
     "duration": 0.006979,
     "end_time": "2020-08-26T21:45:40.293105",
     "exception": false,
     "start_time": "2020-08-26T21:45:40.286126",
     "status": "completed"
    },
    "tags": []
   },
   "source": [
    "# Complex topics dealing with Eigen-stuff\n",
    "\n",
    "0. Defective Matrices\n",
    "1. Min-max theorem\n",
    "2. Spectral Theory\n",
    "3. Eigenfunctions"
   ]
  },
  {
   "cell_type": "markdown",
   "execution_count": null,
   "metadata": {
    "papermill": {
     "duration": 0.007121,
     "end_time": "2020-08-26T21:45:40.307583",
     "exception": false,
     "start_time": "2020-08-26T21:45:40.300462",
     "status": "completed"
    },
    "tags": []
   },
   "source": [
    "# Eigen-stuff in Numpy"
   ]
  },
  {
   "cell_type": "code",
   "execution_count": 2,
   "metadata": {
    "execution": {
     "iopub.execute_input": "2020-08-26T21:45:40.328374Z",
     "iopub.status.busy": "2020-08-26T21:45:40.327635Z",
     "iopub.status.idle": "2020-08-26T21:45:40.537138Z",
     "shell.execute_reply": "2020-08-26T21:45:40.537616Z"
    },
    "papermill": {
     "duration": 0.222828,
     "end_time": "2020-08-26T21:45:40.537749",
     "exception": false,
     "start_time": "2020-08-26T21:45:40.314921",
     "status": "completed"
    },
    "tags": []
   },
   "outputs": [
    {
     "data": {
      "image/png": "[encoded data removed]",
      "text/plain": [
       "<Figure size 432x288 with 1 Axes>"
      ]
     },
     "metadata": {
      "needs_background": "light"
     },
     "output_type": "display_data"
    }
   ],
   "source": [
    "#Here we will just create some random vector\n",
    "v = np.array([1,2])\n",
    "#Let's display this vector in matplotlib\n",
    "plt.quiver(v[0],v[1], angles='xy',scale_units='xy', scale = 1)\n",
    "plt.xlim(-5,5)\n",
    "plt.ylim(-5,5)\n",
    "plt.grid()\n",
    "plt.show()"
   ]
  },
  {
   "cell_type": "code",
   "execution_count": 3,
   "metadata": {
    "execution": {
     "iopub.execute_input": "2020-08-26T21:45:40.556807Z",
     "iopub.status.busy": "2020-08-26T21:45:40.555869Z",
     "iopub.status.idle": "2020-08-26T21:45:40.561408Z",
     "shell.execute_reply": "2020-08-26T21:45:40.561817Z"
    },
    "papermill": {
     "duration": 0.016066,
     "end_time": "2020-08-26T21:45:40.561973",
     "exception": false,
     "start_time": "2020-08-26T21:45:40.545907",
     "status": "completed"
    },
    "tags": []
   },
   "outputs": [
    {
     "data": {
      "text/plain": [
       "array([[1, 0],\n",
       "       [0, 2]])"
      ]
     },
     "execution_count": 3,
     "metadata": {},
     "output_type": "execute_result"
    }
   ],
   "source": [
    "#Now let's make a simple 2-D matrix to mess with\n",
    "A =  np.array([[1,0],[0,2]])\n",
    "A"
   ]
  },
  {
   "cell_type": "markdown",
   "execution_count": null,
   "metadata": {
    "papermill": {
     "duration": 0.007572,
     "end_time": "2020-08-26T21:45:40.577024",
     "exception": false,
     "start_time": "2020-08-26T21:45:40.569452",
     "status": "completed"
    },
    "tags": []
   },
   "source": [
    "**NOTE!! Finding eigenvalues using this method is not the optimal, and is only used as an introductory method. The standard way to solve for the eigenvalues, is to use Eigenvalue Algorithms like QR algorithm.**"
   ]
  },
  {
   "cell_type": "markdown",
   "execution_count": null,
   "metadata": {
    "papermill": {
     "duration": 0.007545,
     "end_time": "2020-08-26T21:45:40.592281",
     "exception": false,
     "start_time": "2020-08-26T21:45:40.584736",
     "status": "completed"
    },
    "tags": []
   },
   "source": [
    "Now we want to solve:\n",
    "\n",
    "$$Ax = \\lambda{x}$$\n",
    "\n",
    "So we must use:\n",
    "\n",
    "$$det(A - \\lambda{I}) = 0$$"
   ]
  },
  {
   "cell_type": "code",
   "execution_count": 4,
   "metadata": {
    "execution": {
     "iopub.execute_input": "2020-08-26T21:45:40.611703Z",
     "iopub.status.busy": "2020-08-26T21:45:40.610789Z",
     "iopub.status.idle": "2020-08-26T21:45:41.724581Z",
     "shell.execute_reply": "2020-08-26T21:45:41.725046Z"
    },
    "papermill": {
     "duration": 1.125156,
     "end_time": "2020-08-26T21:45:41.725211",
     "exception": false,
     "start_time": "2020-08-26T21:45:40.600055",
     "status": "completed"
    },
    "tags": []
   },
   "outputs": [
    {
     "name": "stdout",
     "output_type": "stream",
     "text": [
      "Matrix([[1 - a, 0]])\n",
      "Matrix([[0, 2 - a]])\n",
      "p(a) =  (1 - a)*(2 - a)\n",
      "The eigenvalues are: [1, 2]\n",
      "[1, 2]\n"
     ]
    }
   ],
   "source": [
    "from sympy import * #Used to place \"Placeholders\" and print steps to solve using characteristic polynomial\n",
    "def findeigenvalues(A): #where A is a matrix\n",
    "    #Let's get A-lambda(I) matrix ready:\n",
    "        n = A.shape[1]\n",
    "        I = Matrix(np.identity(2,dtype=int)) #I\n",
    "        a = Symbol('a') #lambda\n",
    "        S = Matrix(A) #A\n",
    "        for i in range(n):\n",
    "            print((S-a*I)[i,:])\n",
    "        cpoly = (S - a*I).det() #det(A-lambda(I))\n",
    "        print(\"p(a) = \" , cpoly)\n",
    "        eigenvalues = solve(cpoly)\n",
    "        print(\"The eigenvalues are:\" , eigenvalues)\n",
    "        return eigenvalues\n",
    "print(findeigenvalues(A))"
   ]
  },
  {
   "cell_type": "code",
   "execution_count": 5,
   "metadata": {
    "execution": {
     "iopub.execute_input": "2020-08-26T21:45:41.770202Z",
     "iopub.status.busy": "2020-08-26T21:45:41.769338Z",
     "iopub.status.idle": "2020-08-26T21:45:41.773690Z",
     "shell.execute_reply": "2020-08-26T21:45:41.773127Z"
    },
    "papermill": {
     "duration": 0.040652,
     "end_time": "2020-08-26T21:45:41.773806",
     "exception": false,
     "start_time": "2020-08-26T21:45:41.733154",
     "status": "completed"
    },
    "tags": []
   },
   "outputs": [
    {
     "data": {
      "text/plain": [
       "array([1., 2.])"
      ]
     },
     "execution_count": 5,
     "metadata": {},
     "output_type": "execute_result"
    }
   ],
   "source": [
    "#Or we can use numpy's own eigenvalue finder that uses an eigenvalue algorithm:\n",
    "np.linalg.eig(A)[0] #We choose index 0, because that contains an np.array with the eigenvalues"
   ]
  },
  {
   "cell_type": "markdown",
   "execution_count": null,
   "metadata": {
    "papermill": {
     "duration": 0.007613,
     "end_time": "2020-08-26T21:45:41.789819",
     "exception": false,
     "start_time": "2020-08-26T21:45:41.782206",
     "status": "completed"
    },
    "tags": []
   },
   "source": [
    "Now with $\\lambda_1 = 1$ and $\\lambda_2 = 2$, let's find the eigenvectors by solving:\n",
    "\n",
    "$$\\left(\\begin{array}{cc} 1 - 1 & 0 \\\\ 0 & 2 - 1 \\end{array}\\right)x = \\left(\\begin{array}{c} 0 \\\\ 0 \\end{array}\\right)$$\n",
    "\n",
    "$$\\left(\\begin{array}{cc} 1 - 2 & 0 \\\\ 0 & 2 - 2 \\end{array}\\right)x = \\left(\\begin{array}{c} 0 \\\\ 0 \\end{array}\\right)$$"
   ]
  },
  {
   "cell_type": "code",
   "execution_count": 6,
   "metadata": {
    "execution": {
     "iopub.execute_input": "2020-08-26T21:45:41.813833Z",
     "iopub.status.busy": "2020-08-26T21:45:41.813207Z",
     "iopub.status.idle": "2020-08-26T21:45:41.821176Z",
     "shell.execute_reply": "2020-08-26T21:45:41.821646Z"
    },
    "papermill": {
     "duration": 0.02359,
     "end_time": "2020-08-26T21:45:41.821787",
     "exception": false,
     "start_time": "2020-08-26T21:45:41.798197",
     "status": "completed"
    },
    "tags": []
   },
   "outputs": [
    {
     "name": "stdout",
     "output_type": "stream",
     "text": [
      "Matrix([[1 - a, 0]])\n",
      "Matrix([[0, 2 - a]])\n",
      "p(a) =  (1 - a)*(2 - a)\n",
      "The eigenvalues are: [1, 2]\n",
      "\n",
      "Matrix - 1 :\n",
      "[[0 0]\n",
      " [0 1]]\n",
      "\n",
      "Matrix - 2 :\n",
      "[[-1 0]\n",
      " [0 0]]\n",
      "\n"
     ]
    }
   ],
   "source": [
    "def findeigenvectors(A):\n",
    "    eigenvalues = findeigenvalues(A)\n",
    "    print()\n",
    "    zeros = np.zeros((1,A.shape[0]),dtype=int)\n",
    "    for i in range(len(eigenvalues)):\n",
    "        matrix = A-eigenvalues[i]*np.identity(2,dtype=int)\n",
    "        print(\"Matrix -\", eigenvalues[i],\":\")\n",
    "        print(matrix) \n",
    "        #Note, using np.linalg.solve will not work, because we can see that when lambda = 1, there is not full rank. So this works only when there is full rank\n",
    "        #np.linalg.solve(matrix,zeros)\n",
    "        print()\n",
    "findeigenvectors(A)"
   ]
  },
  {
   "cell_type": "code",
   "execution_count": 7,
   "metadata": {
    "execution": {
     "iopub.execute_input": "2020-08-26T21:45:41.846264Z",
     "iopub.status.busy": "2020-08-26T21:45:41.845555Z",
     "iopub.status.idle": "2020-08-26T21:45:41.850659Z",
     "shell.execute_reply": "2020-08-26T21:45:41.850231Z"
    },
    "papermill": {
     "duration": 0.02042,
     "end_time": "2020-08-26T21:45:41.850772",
     "exception": false,
     "start_time": "2020-08-26T21:45:41.830352",
     "status": "completed"
    },
    "tags": []
   },
   "outputs": [
    {
     "name": "stdout",
     "output_type": "stream",
     "text": [
      "Eigenvector for lambda = 1.0 : [1. 0.]\n",
      "Eigenvector for lambda = 2.0 : [0. 1.]\n"
     ]
    }
   ],
   "source": [
    "#Or the best method, which is to use np.linalg.eig(A)[1] to grab all of the eigenvectors\n",
    "eigenvectors = np.linalg.eig(A)[1]\n",
    "#eigenvectors[:,i] will have the eigenvector for eigenvalue[i].\n",
    "#So in our case,\n",
    "val1 = np.linalg.eig(A)[0][0]\n",
    "vec1 = eigenvectors[:,0]\n",
    "val2 = np.linalg.eig(A)[0][1]\n",
    "vec2 = eigenvectors[:,1]\n",
    "print(\"Eigenvector for lambda =\", val1, \":\" , vec1)\n",
    "print(\"Eigenvector for lambda =\", val2, \":\" , vec2)"
   ]
  },
  {
   "cell_type": "markdown",
   "execution_count": null,
   "metadata": {
    "papermill": {
     "duration": 0.008007,
     "end_time": "2020-08-26T21:45:41.866880",
     "exception": false,
     "start_time": "2020-08-26T21:45:41.858873",
     "status": "completed"
    },
    "tags": []
   },
   "source": [
    "Therefore, the vectors: $\\left(\\begin{array}{c} 1 \\\\ 0 \\end{array}\\right)$ and $\\left(\\begin{array}{c} 0 \\\\ 1 \\end{array}\\right)$, (as well as their scalar multiples), will be eigenvectors and will not rotate, only scale times their respective eigenvalue:"
   ]
  },
  {
   "cell_type": "markdown",
   "execution_count": null,
   "metadata": {
    "papermill": {
     "duration": 0.008675,
     "end_time": "2020-08-26T21:45:41.884151",
     "exception": false,
     "start_time": "2020-08-26T21:45:41.875476",
     "status": "completed"
    },
    "tags": []
   },
   "source": [
    "We want to see the effects that the Linear Transformation, A, has on other vectors compared to the 2 eigenvectors we found:"
   ]
  },
  {
   "cell_type": "code",
   "execution_count": 8,
   "metadata": {
    "execution": {
     "iopub.execute_input": "2020-08-26T21:45:41.907028Z",
     "iopub.status.busy": "2020-08-26T21:45:41.906366Z",
     "iopub.status.idle": "2020-08-26T21:45:41.909169Z",
     "shell.execute_reply": "2020-08-26T21:45:41.908597Z"
    },
    "papermill": {
     "duration": 0.016569,
     "end_time": "2020-08-26T21:45:41.909282",
     "exception": false,
     "start_time": "2020-08-26T21:45:41.892713",
     "status": "completed"
    },
    "tags": []
   },
   "outputs": [],
   "source": [
    "#Our non-eigenvectors that will \"shift\"\n",
    "x0 = np.array([-2,1])\n",
    "x1 = np.array([1,2])\n",
    "x2 = np.array([-3,-2])"
   ]
  },
  {
   "cell_type": "code",
   "execution_count": 9,
   "metadata": {
    "execution": {
     "iopub.execute_input": "2020-08-26T21:45:41.929027Z",
     "iopub.status.busy": "2020-08-26T21:45:41.928391Z",
     "iopub.status.idle": "2020-08-26T21:45:42.209728Z",
     "shell.execute_reply": "2020-08-26T21:45:42.209219Z"
    },
    "papermill": {
     "duration": 0.292302,
     "end_time": "2020-08-26T21:45:42.209840",
     "exception": false,
     "start_time": "2020-08-26T21:45:41.917538",
     "status": "completed"
    },
    "tags": []
   },
   "outputs": [
    {
     "name": "stdout",
     "output_type": "stream",
     "text": [
      "Before applying A:  x0 = [-2  1] x1 = [1 2] x2 = [-3 -2] eigenvector1 = [1. 0.] eigenvector2 = [0. 1.]\n",
      "After applying A:  x0 = [-2  2] x1 = [1 4] x2 = [-3 -4] eigenvector1 = [1. 0.] eigenvector2 = [0. 2.]\n"
     ]
    },
    {
     "data": {
      "image/png": "[encoded data removed]",
      "text/plain": [
       "<Figure size 720x360 with 2 Axes>"
      ]
     },
     "metadata": {
      "needs_background": "light"
     },
     "output_type": "display_data"
    }
   ],
   "source": [
    "fig, axs = plt.subplots(1, 2, figsize=(10,5))\n",
    "fx0 = np.matmul(A,x0)\n",
    "fx1 = np.matmul(A,x1)\n",
    "fx2 = np.matmul(A,x2)\n",
    "evec1 = np.matmul(A,vec1)\n",
    "evec2 = np.matmul(A,vec2)\n",
    "\n",
    "print(\"Before applying A: \" , \"x0 =\",x0,\"x1 =\",x1,\"x2 =\",x2,\"eigenvector1 =\",vec1,\"eigenvector2 =\",vec2)\n",
    "print(\"After applying A: \" , \"x0 =\",fx0,\"x1 =\",fx1,\"x2 =\",fx2,\"eigenvector1 =\",evec1,\"eigenvector2 =\",evec2)\n",
    "axs[0].quiver(x0[0],x0[1], angles='xy',scale_units='xy', scale = 1)\n",
    "axs[0].quiver(x1[0],x1[1], angles='xy',scale_units='xy', scale = 1)\n",
    "axs[0].quiver(x2[0],x2[1], angles='xy',scale_units='xy', scale = 1)\n",
    "axs[0].quiver(vec1[0],vec1[1], angles='xy',scale_units='xy', scale = 1,color='red')\n",
    "axs[0].quiver(vec2[0],vec2[1], angles='xy',scale_units='xy', scale = 1,color='red')\n",
    "axs[1].quiver(fx0[0],fx0[1], angles='xy',scale_units='xy', scale = 1)\n",
    "axs[1].quiver(fx1[0],fx1[1], angles='xy',scale_units='xy', scale = 1)\n",
    "axs[1].quiver(fx2[0],fx2[1], angles='xy',scale_units='xy', scale = 1)\n",
    "axs[1].quiver(evec1[0],evec1[1], angles='xy',scale_units='xy', scale = 1,color='red')\n",
    "axs[1].quiver(evec2[0],evec2[1], angles='xy',scale_units='xy', scale = 1,color='red')\n",
    "axs[0].set_xlim(-5,5)\n",
    "axs[0].set_ylim(-5,5)\n",
    "axs[0].grid()\n",
    "axs[0].set_title(\"Vectors before A\")\n",
    "axs[1].set_title(\"Vectors after A\")\n",
    "plt.xlim(-5,5)\n",
    "plt.ylim(-5,5)\n",
    "plt.grid()\n",
    "plt.show()"
   ]
  },
  {
   "cell_type": "markdown",
   "execution_count": null,
   "metadata": {
    "papermill": {
     "duration": 0.011162,
     "end_time": "2020-08-26T21:45:42.235850",
     "exception": false,
     "start_time": "2020-08-26T21:45:42.224688",
     "status": "completed"
    },
    "tags": []
   },
   "source": [
    "You can see that the eigenvectors (in red) were only scaled after the Linear Transformation $A$ was applied to them. While the other vectors were transformed by being rotated and scaled."
   ]
  },
  {
   "cell_type": "markdown",
   "execution_count": null,
   "metadata": {
    "papermill": {
     "duration": 0.008534,
     "end_time": "2020-08-26T21:45:42.253408",
     "exception": false,
     "start_time": "2020-08-26T21:45:42.244874",
     "status": "completed"
    },
    "tags": []
   },
   "source": [
    "### Rotation using Matrices"
   ]
  },
  {
   "cell_type": "markdown",
   "execution_count": null,
   "metadata": {
    "papermill": {
     "duration": 0.008365,
     "end_time": "2020-08-26T21:45:42.270421",
     "exception": false,
     "start_time": "2020-08-26T21:45:42.262056",
     "status": "completed"
    },
    "tags": []
   },
   "source": [
    "We want to construct a 2-D matrix that will rotate 2-D space by degree, $\\theta$. But how will we find the matrix? First let's do some tests to find some patterns."
   ]
  },
  {
   "cell_type": "markdown",
   "execution_count": null,
   "metadata": {
    "papermill": {
     "duration": 0.008077,
     "end_time": "2020-08-26T21:45:42.287245",
     "exception": false,
     "start_time": "2020-08-26T21:45:42.279168",
     "status": "completed"
    },
    "tags": []
   },
   "source": [
    "1. We know that we can easily rotate everything by 90 degrees by changing the standard basis, $\\left(\\begin{array}{cc} 1 & 0 \\\\ 0 & 1 \\end{array}\\right)$. From the standard basis, we know that $\\hat{i}$ is point to the right, i.e. $\\left(\\begin{array}{c} 1 \\\\ 0 \\end{array}\\right)$. If space is rotated by 90 degrees, then $\\hat{i}$ should be facing upwards: $\\left(\\begin{array}{c} 0 \\\\ 1 \\end{array}\\right)$. While for $\\hat{j}$, it's facing upwards, and needs to instead face left: $\\left(\\begin{array}{c} -1 \\\\ 0 \\end{array}\\right)$. So our 90 degree rotation matrix is:\n",
    "\n",
    "$$A = \\left(\\begin{array}{cc} 0 & -1 \\\\ 1 & 0 \\end{array}\\right)$$\n",
    "\n",
    "Let's test this out with vector, $x = \\left(\\begin{array}{c} 2 \\\\ 1 \\end{array}\\right)$, which should then become $x = \\left(\\begin{array}{c} -1 \\\\ 2 \\end{array}\\right)$:"
   ]
  },
  {
   "cell_type": "code",
   "execution_count": 10,
   "metadata": {
    "execution": {
     "iopub.execute_input": "2020-08-26T21:45:42.313590Z",
     "iopub.status.busy": "2020-08-26T21:45:42.312867Z",
     "iopub.status.idle": "2020-08-26T21:45:42.539830Z",
     "shell.execute_reply": "2020-08-26T21:45:42.540542Z"
    },
    "papermill": {
     "duration": 0.245044,
     "end_time": "2020-08-26T21:45:42.540735",
     "exception": false,
     "start_time": "2020-08-26T21:45:42.295691",
     "status": "completed"
    },
    "tags": []
   },
   "outputs": [
    {
     "data": {
      "image/png": "[encoded data removed]",
      "text/plain": [
       "<Figure size 720x360 with 2 Axes>"
      ]
     },
     "metadata": {
      "needs_background": "light"
     },
     "output_type": "display_data"
    },
    {
     "name": "stdout",
     "output_type": "stream",
     "text": [
      "Before A: x = [2 1]\n",
      "After A: x = [-1  2]\n"
     ]
    }
   ],
   "source": [
    "x = np.array([2,1])\n",
    "A = np.array([[0,-1],\n",
    "              [1,0]])\n",
    "fx = np.matmul(A,x)\n",
    "fig, axs = plt.subplots(1,2, figsize=(10,5))\n",
    "axs[0].quiver(x[0],x[1],angles='xy',scale_units='xy', scale = 1)\n",
    "axs[1].quiver(fx[0],fx[1],angles='xy',scale_units='xy', scale = 1)\n",
    "axs[0].set_xlim(-5,5)\n",
    "axs[0].set_ylim(-5,5)\n",
    "axs[0].grid()\n",
    "axs[0].set_title(\"Vectors before A\")\n",
    "axs[1].set_title(\"Vectors after A\")\n",
    "plt.xlim(-5,5)\n",
    "plt.ylim(-5,5)\n",
    "plt.grid()\n",
    "plt.show()\n",
    "\n",
    "print(\"Before A:\", \"x =\",x)\n",
    "print(\"After A:\", \"x =\", fx)"
   ]
  },
  {
   "cell_type": "markdown",
   "execution_count": null,
   "metadata": {
    "papermill": {
     "duration": 0.008544,
     "end_time": "2020-08-26T21:45:42.559543",
     "exception": false,
     "start_time": "2020-08-26T21:45:42.550999",
     "status": "completed"
    },
    "tags": []
   },
   "source": [
    "This is exactly what we wanted, so we now know the matrix that can rotate any vector by 90 degrees."
   ]
  },
  {
   "cell_type": "markdown",
   "execution_count": null,
   "metadata": {
    "papermill": {
     "duration": 0.008437,
     "end_time": "2020-08-26T21:45:42.576638",
     "exception": false,
     "start_time": "2020-08-26T21:45:42.568201",
     "status": "completed"
    },
    "tags": []
   },
   "source": [
    "2. But what if we want to rotate it 45 degrees? We can use the same principle as our first, by looking at $\\hat{i}$ and $\\hat{j}$ and where they should land if we applied a 45 degree rotation to them. Our 45 degree rotation matrix looks like:\n",
    "\n",
    "$$A = \\left(\\begin{array}{cc} \\frac{\\sqrt{2}}{2} & -\\frac{\\sqrt{2}}{2} \\\\ \\frac{\\sqrt{2}}{2} & \\frac{\\sqrt{2}}{2} \\end{array}\\right)$$\n",
    "\n",
    "Let's apply this to our new vector, $x = \\left(\\begin{array}{c} 1 \\\\ 1 \\end{array}\\right)$:"
   ]
  },
  {
   "cell_type": "code",
   "execution_count": 11,
   "metadata": {
    "execution": {
     "iopub.execute_input": "2020-08-26T21:45:42.604879Z",
     "iopub.status.busy": "2020-08-26T21:45:42.604314Z",
     "iopub.status.idle": "2020-08-26T21:45:42.824538Z",
     "shell.execute_reply": "2020-08-26T21:45:42.824003Z"
    },
    "papermill": {
     "duration": 0.239082,
     "end_time": "2020-08-26T21:45:42.824646",
     "exception": false,
     "start_time": "2020-08-26T21:45:42.585564",
     "status": "completed"
    },
    "tags": []
   },
   "outputs": [
    {
     "data": {
      "image/png": "[encoded data removed]",
      "text/plain": [
       "<Figure size 720x360 with 2 Axes>"
      ]
     },
     "metadata": {
      "needs_background": "light"
     },
     "output_type": "display_data"
    },
    {
     "name": "stdout",
     "output_type": "stream",
     "text": [
      "Before A: x = [1 1]\n",
      "After A: x = [0.         1.41421356]\n"
     ]
    }
   ],
   "source": [
    "x = np.array([1,1])\n",
    "A = np.array([[(2**(0.5))/2,-(2**(0.5))/2],\n",
    "              [(2**(0.5))/2,(2**(0.5))/2]])\n",
    "fx = np.matmul(A,x)\n",
    "fig, axs = plt.subplots(1,2, figsize=(10,5))\n",
    "axs[0].quiver(x[0],x[1],angles='xy',scale_units='xy', scale = 1)\n",
    "axs[1].quiver(fx[0],fx[1],angles='xy',scale_units='xy', scale = 1)\n",
    "axs[0].set_xlim(-5,5)\n",
    "axs[0].set_ylim(-5,5)\n",
    "axs[0].grid()\n",
    "axs[0].set_title(\"Vectors before A\")\n",
    "axs[1].set_title(\"Vectors after A\")\n",
    "plt.xlim(-5,5)\n",
    "plt.ylim(-5,5)\n",
    "plt.grid()\n",
    "plt.show()\n",
    "\n",
    "print(\"Before A:\", \"x =\",x)\n",
    "print(\"After A:\", \"x =\", fx)"
   ]
  },
  {
   "cell_type": "markdown",
   "execution_count": null,
   "metadata": {
    "papermill": {
     "duration": 0.008705,
     "end_time": "2020-08-26T21:45:42.842846",
     "exception": false,
     "start_time": "2020-08-26T21:45:42.834141",
     "status": "completed"
    },
    "tags": []
   },
   "source": [
    "This is correct, because the length of the vector, $x$, is $\\frac{\\sqrt{2}}{2}$."
   ]
  },
  {
   "cell_type": "markdown",
   "execution_count": null,
   "metadata": {
    "papermill": {
     "duration": 0.008799,
     "end_time": "2020-08-26T21:45:42.860743",
     "exception": false,
     "start_time": "2020-08-26T21:45:42.851944",
     "status": "completed"
    },
    "tags": []
   },
   "source": [
    "3. Now let's look at the patterns, and figure out an equation for rotation for any degree, $\\theta$. Looking at $\\hat{i}$ individually, we can see that when we rotate the vector in a circle like a unit circle, it's x-coordinate is treated the same as $cos\\theta$, while it's y-coordinate is $sin\\theta$. So we can say $\\hat{i} = \\left(\\begin{array}{c} cos\\theta \\\\ sin\\theta \\end{array}\\right)$. This will be different for $\\hat{j}$ because it already is looking upward, thus has a 90 degree head start. So we can just apply the same thing, except subtract 90 degrees, or $\\frac{\\pi}{2}$, from $\\theta$. So $\\hat{j} = \\left(\\begin{array}{c} cos(\\theta - \\frac{\\pi}{2}) \\\\ sin(\\theta - \\frac{\\pi}{2}) \\end{array}\\right) = \\left(\\begin{array}{c} -sin\\theta \\\\ cos\\theta \\end{array}\\right)$ . Therefore, our final true rotation matrix will be:\n",
    "\n",
    "$$A = \\left(\\begin{array}{cc} cos\\theta & cos(\\theta - \\frac{\\pi}{2}) \\\\ sin\\theta & sin(\\theta - \\frac{\\pi}{2}) \\end{array}\\right) = \\left(\\begin{array}{cc} cos\\theta & -sin\\theta \\\\ sin\\theta & cos\\theta \\end{array}\\right)$$\n",
    "\n",
    "Let's test this with vector, $x = \\left(\\begin{array}{c} 1 \\\\ 0 \\end{array}\\right)$, and rotate by 135 degrees, or $\\theta = \\frac{3\\pi}{4}$:"
   ]
  },
  {
   "cell_type": "code",
   "execution_count": 12,
   "metadata": {
    "execution": {
     "iopub.execute_input": "2020-08-26T21:45:42.894384Z",
     "iopub.status.busy": "2020-08-26T21:45:42.890042Z",
     "iopub.status.idle": "2020-08-26T21:45:43.120102Z",
     "shell.execute_reply": "2020-08-26T21:45:43.119528Z"
    },
    "papermill": {
     "duration": 0.250229,
     "end_time": "2020-08-26T21:45:43.120212",
     "exception": false,
     "start_time": "2020-08-26T21:45:42.869983",
     "status": "completed"
    },
    "tags": []
   },
   "outputs": [
    {
     "data": {
      "image/png": "[encoded data removed]",
      "text/plain": [
       "<Figure size 720x360 with 2 Axes>"
      ]
     },
     "metadata": {
      "needs_background": "light"
     },
     "output_type": "display_data"
    },
    {
     "name": "stdout",
     "output_type": "stream",
     "text": [
      "Before A: x = [1 0]\n",
      "After A: x = [-0.70710678  0.70710678]\n"
     ]
    }
   ],
   "source": [
    "x = np.array([1,0])\n",
    "pi = 3.141592653589793\n",
    "theta = 3*pi/4\n",
    "A = np.array([[np.cos(theta),-np.sin(theta)],\n",
    "              [np.sin(theta),np.cos(theta)]])\n",
    "fx = np.matmul(A,x)\n",
    "fig, axs = plt.subplots(1,2, figsize=(10,5))\n",
    "axs[0].quiver(x[0],x[1],angles='xy',scale_units='xy', scale = 1)\n",
    "axs[1].quiver(fx[0],fx[1],angles='xy',scale_units='xy', scale = 1)\n",
    "axs[0].set_xlim(-5,5)\n",
    "axs[0].set_ylim(-5,5)\n",
    "axs[0].grid()\n",
    "axs[0].set_title(\"Vectors before A\")\n",
    "axs[1].set_title(\"Vectors after A\")\n",
    "plt.xlim(-5,5)\n",
    "plt.ylim(-5,5)\n",
    "plt.grid()\n",
    "plt.show()\n",
    "\n",
    "print(\"Before A:\", \"x =\",x)\n",
    "print(\"After A:\", \"x =\", fx)"
   ]
  },
  {
   "cell_type": "markdown",
   "execution_count": null,
   "metadata": {
    "papermill": {
     "duration": 0.009051,
     "end_time": "2020-08-26T21:45:43.138622",
     "exception": false,
     "start_time": "2020-08-26T21:45:43.129571",
     "status": "completed"
    },
    "tags": []
   },
   "source": [
    "This is correct."
   ]
  }
 ],
 "metadata": {
  "kernelspec": {
   "display_name": "Python 3",
   "language": "python",
   "name": "python3"
  },
  "language_info": {
   "codemirror_mode": {
    "name": "ipython",
    "version": 3
   },
   "file_extension": ".py",
   "mimetype": "text/x-python",
   "name": "python",
   "nbconvert_exporter": "python",
   "pygments_lexer": "ipython3",
   "version": "3.7.6"
  },
  "papermill": {
   "duration": 7.597281,
   "end_time": "2020-08-26T21:45:43.256532",
   "environment_variables": {},
   "exception": null,
   "input_path": "__notebook__.ipynb",
   "output_path": "__notebook__.ipynb",
   "parameters": {},
   "start_time": "2020-08-26T21:45:35.659251",
   "version": "2.1.0"
  }
 },
 "nbformat": 4,
 "nbformat_minor": 4
}
