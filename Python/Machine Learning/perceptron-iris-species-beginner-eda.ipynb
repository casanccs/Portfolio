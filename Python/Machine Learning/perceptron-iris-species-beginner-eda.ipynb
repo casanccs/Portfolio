{
 "cells": [
  {
   "cell_type": "code",
   "execution_count": 1,
   "metadata": {},
   "outputs": [
    {
     "name": "stdout",
     "output_type": "stream",
     "text": [
      "Enabling notebook extension jupyter-js-widgets/extension...\r\n",
      "      - Validating: \u001b[32mOK\u001b[0m\r\n"
     ]
    }
   ],
   "source": [
    "#Used for interactivity\n",
    "!jupyter nbextension enable --py widgetsnbextension\n",
    "from ipywidgets import interact, interactive, fixed, interact_manual\n",
    "import ipywidgets as  widgets "
   ]
  },
  {
   "cell_type": "markdown",
   "execution_count": null,
   "metadata": {},
   "source": [
    "# The Iris Dataset:\n",
    "This is my introduction into the Data Science and Analysis world. What I want to achieve, is to create an understanding for the standard laymen to see the patterns and distinctions between these three Iris species. I also want to create a machine learning model (Perceptron and Gradient Descent Specifically) to classify new flowers with high accuracy while using as little data as I can."
   ]
  },
  {
   "cell_type": "markdown",
   "execution_count": null,
   "metadata": {},
   "source": [
    "# What I want to learn and practice with this kernel:\n",
    "* Learn how to explore and visualize data more deeply to gain a better understanding of the relationship of data\n",
    "* Decision Boundary Drawing\n",
    "* Affects of adding more features to Perceptron to see variance vs bias tradeoff.\n",
    "* Learn basics of different Gradient Descent algorithms."
   ]
  },
  {
   "cell_type": "code",
   "execution_count": 2,
   "metadata": {
    "_cell_guid": "b1076dfc-b9ad-4769-8c92-a6c4dae69d19",
    "_uuid": "8f2839f25d086af736a60e9eeb907d3b93b6e0e5"
   },
   "outputs": [
    {
     "name": "stdout",
     "output_type": "stream",
     "text": [
      "/kaggle/input/iris/database.sqlite\n",
      "/kaggle/input/iris/Iris.csv\n"
     ]
    }
   ],
   "source": [
    "# This Python 3 environment comes with many helpful analytics libraries installed\n",
    "# It is defined by the kaggle/python Docker image: https://github.com/kaggle/docker-python\n",
    "# For example, here's several helpful packages to load\n",
    "\n",
    "import numpy as np # linear algebra\n",
    "import pandas as pd # data processing, CSV file I/O (e.g. pd.read_csv)\n",
    "import matplotlib.pyplot as plt\n",
    "from sklearn.preprocessing import LabelEncoder\n",
    "from sklearn.model_selection import train_test_split\n",
    "from scipy.special import comb\n",
    "# Input data files are available in the read-only \"../input/\" directory\n",
    "# For example, running this (by clicking run or pressing Shift+Enter) will list all files under the input directory\n",
    "\n",
    "import os\n",
    "for dirname, _, filenames in os.walk('/kaggle/input'):\n",
    "    for filename in filenames:\n",
    "        print(os.path.join(dirname, filename))\n",
    "\n",
    "# You can write up to 5GB to the current directory (/kaggle/working/) that gets preserved as output when you create a version using \"Save & Run All\" \n",
    "# You can also write temporary files to /kaggle/temp/, but they won't be saved outside of the current session"
   ]
  },
  {
   "cell_type": "code",
   "execution_count": 3,
   "metadata": {
    "_cell_guid": "79c7e3d0-c299-4dcb-8224-4455121ee9b0",
    "_uuid": "d629ff2d2480ee46fbb7e2d37f6b5fab8052498a"
   },
   "outputs": [
    {
     "data": {
      "text/html": [
       "<div>\n",
       "<style scoped>\n",
       "    .dataframe tbody tr th:only-of-type {\n",
       "        vertical-align: middle;\n",
       "    }\n",
       "\n",
       "    .dataframe tbody tr th {\n",
       "        vertical-align: top;\n",
       "    }\n",
       "\n",
       "    .dataframe thead th {\n",
       "        text-align: right;\n",
       "    }\n",
       "</style>\n",
       "<table border=\"1\" class=\"dataframe\">\n",
       "  <thead>\n",
       "    <tr style=\"text-align: right;\">\n",
       "      <th></th>\n",
       "      <th>SepalLengthCm</th>\n",
       "      <th>SepalWidthCm</th>\n",
       "      <th>PetalLengthCm</th>\n",
       "      <th>PetalWidthCm</th>\n",
       "      <th>Species</th>\n",
       "    </tr>\n",
       "  </thead>\n",
       "  <tbody>\n",
       "    <tr>\n",
       "      <th>0</th>\n",
       "      <td>5.1</td>\n",
       "      <td>3.5</td>\n",
       "      <td>1.4</td>\n",
       "      <td>0.2</td>\n",
       "      <td>Iris-setosa</td>\n",
       "    </tr>\n",
       "    <tr>\n",
       "      <th>1</th>\n",
       "      <td>4.9</td>\n",
       "      <td>3.0</td>\n",
       "      <td>1.4</td>\n",
       "      <td>0.2</td>\n",
       "      <td>Iris-setosa</td>\n",
       "    </tr>\n",
       "    <tr>\n",
       "      <th>2</th>\n",
       "      <td>4.7</td>\n",
       "      <td>3.2</td>\n",
       "      <td>1.3</td>\n",
       "      <td>0.2</td>\n",
       "      <td>Iris-setosa</td>\n",
       "    </tr>\n",
       "    <tr>\n",
       "      <th>3</th>\n",
       "      <td>4.6</td>\n",
       "      <td>3.1</td>\n",
       "      <td>1.5</td>\n",
       "      <td>0.2</td>\n",
       "      <td>Iris-setosa</td>\n",
       "    </tr>\n",
       "    <tr>\n",
       "      <th>4</th>\n",
       "      <td>5.0</td>\n",
       "      <td>3.6</td>\n",
       "      <td>1.4</td>\n",
       "      <td>0.2</td>\n",
       "      <td>Iris-setosa</td>\n",
       "    </tr>\n",
       "    <tr>\n",
       "      <th>...</th>\n",
       "      <td>...</td>\n",
       "      <td>...</td>\n",
       "      <td>...</td>\n",
       "      <td>...</td>\n",
       "      <td>...</td>\n",
       "    </tr>\n",
       "    <tr>\n",
       "      <th>145</th>\n",
       "      <td>6.7</td>\n",
       "      <td>3.0</td>\n",
       "      <td>5.2</td>\n",
       "      <td>2.3</td>\n",
       "      <td>Iris-virginica</td>\n",
       "    </tr>\n",
       "    <tr>\n",
       "      <th>146</th>\n",
       "      <td>6.3</td>\n",
       "      <td>2.5</td>\n",
       "      <td>5.0</td>\n",
       "      <td>1.9</td>\n",
       "      <td>Iris-virginica</td>\n",
       "    </tr>\n",
       "    <tr>\n",
       "      <th>147</th>\n",
       "      <td>6.5</td>\n",
       "      <td>3.0</td>\n",
       "      <td>5.2</td>\n",
       "      <td>2.0</td>\n",
       "      <td>Iris-virginica</td>\n",
       "    </tr>\n",
       "    <tr>\n",
       "      <th>148</th>\n",
       "      <td>6.2</td>\n",
       "      <td>3.4</td>\n",
       "      <td>5.4</td>\n",
       "      <td>2.3</td>\n",
       "      <td>Iris-virginica</td>\n",
       "    </tr>\n",
       "    <tr>\n",
       "      <th>149</th>\n",
       "      <td>5.9</td>\n",
       "      <td>3.0</td>\n",
       "      <td>5.1</td>\n",
       "      <td>1.8</td>\n",
       "      <td>Iris-virginica</td>\n",
       "    </tr>\n",
       "  </tbody>\n",
       "</table>\n",
       "<p>150 rows × 5 columns</p>\n",
       "</div>"
      ],
      "text/plain": [
       "     SepalLengthCm  SepalWidthCm  PetalLengthCm  PetalWidthCm         Species\n",
       "0              5.1           3.5            1.4           0.2     Iris-setosa\n",
       "1              4.9           3.0            1.4           0.2     Iris-setosa\n",
       "2              4.7           3.2            1.3           0.2     Iris-setosa\n",
       "3              4.6           3.1            1.5           0.2     Iris-setosa\n",
       "4              5.0           3.6            1.4           0.2     Iris-setosa\n",
       "..             ...           ...            ...           ...             ...\n",
       "145            6.7           3.0            5.2           2.3  Iris-virginica\n",
       "146            6.3           2.5            5.0           1.9  Iris-virginica\n",
       "147            6.5           3.0            5.2           2.0  Iris-virginica\n",
       "148            6.2           3.4            5.4           2.3  Iris-virginica\n",
       "149            5.9           3.0            5.1           1.8  Iris-virginica\n",
       "\n",
       "[150 rows x 5 columns]"
      ]
     },
     "execution_count": 3,
     "metadata": {},
     "output_type": "execute_result"
    }
   ],
   "source": [
    "df = pd.read_csv(\"/kaggle/input/iris/Iris.csv\")\n",
    "df\n",
    "df = df.drop(labels = \"Id\", axis = 1)\n",
    "df"
   ]
  },
  {
   "cell_type": "markdown",
   "execution_count": null,
   "metadata": {},
   "source": [
    "* We can see that the first 50 belongs to Iris-setosa, next 50 are Iris-versicolor, last 50 are Iris-virginica"
   ]
  },
  {
   "cell_type": "markdown",
   "execution_count": null,
   "metadata": {},
   "source": [
    "# Data Exploration/Understanding"
   ]
  },
  {
   "cell_type": "markdown",
   "execution_count": null,
   "metadata": {},
   "source": [
    "### **Sepal Length analysis**"
   ]
  },
  {
   "cell_type": "code",
   "execution_count": 4,
   "metadata": {},
   "outputs": [
    {
     "data": {
      "text/html": [
       "<div>\n",
       "<style scoped>\n",
       "    .dataframe tbody tr th:only-of-type {\n",
       "        vertical-align: middle;\n",
       "    }\n",
       "\n",
       "    .dataframe tbody tr th {\n",
       "        vertical-align: top;\n",
       "    }\n",
       "\n",
       "    .dataframe thead th {\n",
       "        text-align: right;\n",
       "    }\n",
       "</style>\n",
       "<table border=\"1\" class=\"dataframe\">\n",
       "  <thead>\n",
       "    <tr style=\"text-align: right;\">\n",
       "      <th></th>\n",
       "      <th>SepalLengthCm</th>\n",
       "      <th>Species</th>\n",
       "    </tr>\n",
       "  </thead>\n",
       "  <tbody>\n",
       "    <tr>\n",
       "      <th>0</th>\n",
       "      <td>5.1</td>\n",
       "      <td>Iris-setosa</td>\n",
       "    </tr>\n",
       "    <tr>\n",
       "      <th>1</th>\n",
       "      <td>4.9</td>\n",
       "      <td>Iris-setosa</td>\n",
       "    </tr>\n",
       "    <tr>\n",
       "      <th>2</th>\n",
       "      <td>4.7</td>\n",
       "      <td>Iris-setosa</td>\n",
       "    </tr>\n",
       "    <tr>\n",
       "      <th>3</th>\n",
       "      <td>4.6</td>\n",
       "      <td>Iris-setosa</td>\n",
       "    </tr>\n",
       "    <tr>\n",
       "      <th>4</th>\n",
       "      <td>5.0</td>\n",
       "      <td>Iris-setosa</td>\n",
       "    </tr>\n",
       "    <tr>\n",
       "      <th>...</th>\n",
       "      <td>...</td>\n",
       "      <td>...</td>\n",
       "    </tr>\n",
       "    <tr>\n",
       "      <th>145</th>\n",
       "      <td>6.7</td>\n",
       "      <td>Iris-virginica</td>\n",
       "    </tr>\n",
       "    <tr>\n",
       "      <th>146</th>\n",
       "      <td>6.3</td>\n",
       "      <td>Iris-virginica</td>\n",
       "    </tr>\n",
       "    <tr>\n",
       "      <th>147</th>\n",
       "      <td>6.5</td>\n",
       "      <td>Iris-virginica</td>\n",
       "    </tr>\n",
       "    <tr>\n",
       "      <th>148</th>\n",
       "      <td>6.2</td>\n",
       "      <td>Iris-virginica</td>\n",
       "    </tr>\n",
       "    <tr>\n",
       "      <th>149</th>\n",
       "      <td>5.9</td>\n",
       "      <td>Iris-virginica</td>\n",
       "    </tr>\n",
       "  </tbody>\n",
       "</table>\n",
       "<p>150 rows × 2 columns</p>\n",
       "</div>"
      ],
      "text/plain": [
       "     SepalLengthCm         Species\n",
       "0              5.1     Iris-setosa\n",
       "1              4.9     Iris-setosa\n",
       "2              4.7     Iris-setosa\n",
       "3              4.6     Iris-setosa\n",
       "4              5.0     Iris-setosa\n",
       "..             ...             ...\n",
       "145            6.7  Iris-virginica\n",
       "146            6.3  Iris-virginica\n",
       "147            6.5  Iris-virginica\n",
       "148            6.2  Iris-virginica\n",
       "149            5.9  Iris-virginica\n",
       "\n",
       "[150 rows x 2 columns]"
      ]
     },
     "execution_count": 4,
     "metadata": {},
     "output_type": "execute_result"
    }
   ],
   "source": [
    "sLength = df[['SepalLengthCm','Species']]\n",
    "sLength"
   ]
  },
  {
   "cell_type": "code",
   "execution_count": 5,
   "metadata": {},
   "outputs": [
    {
     "name": "stdout",
     "output_type": "stream",
     "text": [
      "Describe for Iris-setosa:\n",
      "       SepalLengthCm\n",
      "count       50.00000\n",
      "mean         5.00600\n",
      "std          0.35249\n",
      "min          4.30000\n",
      "25%          4.80000\n",
      "50%          5.00000\n",
      "75%          5.20000\n",
      "max          5.80000\n",
      "Describe for Iris-versicolor:\n",
      "       SepalLengthCm\n",
      "count      50.000000\n",
      "mean        5.936000\n",
      "std         0.516171\n",
      "min         4.900000\n",
      "25%         5.600000\n",
      "50%         5.900000\n",
      "75%         6.300000\n",
      "max         7.000000\n",
      "Describe for Iris-virginica:\n",
      "       SepalLengthCm\n",
      "count       50.00000\n",
      "mean         6.58800\n",
      "std          0.63588\n",
      "min          4.90000\n",
      "25%          6.22500\n",
      "50%          6.50000\n",
      "75%          6.90000\n",
      "max          7.90000\n"
     ]
    }
   ],
   "source": [
    "sLength_bySpecies = {}\n",
    "for i, id in enumerate(sLength['Species'].unique()):\n",
    "    sLength_bySpecies[id] = sLength[sLength['Species'] == id]\n",
    "for spec in sLength_bySpecies:\n",
    "    print(\"Describe for \" + spec + \":\")\n",
    "    print(sLength_bySpecies[spec].describe())"
   ]
  },
  {
   "cell_type": "markdown",
   "execution_count": null,
   "metadata": {},
   "source": [
    "* We can see that in terms of the mean, std, max, and percentiles, there is a distinction in magnitude, in increasing order:\n",
    "    1. Iris-setosa (Being the least)\n",
    "    2. Iris-versicolor (Being the middle)\n",
    "    3. Iris-virginica (Being the biggest)\n",
    "* However we can see that the max sepal length for Iris-setosa is 5.8, while the min for both Iris-versicolor and Iris-virginica is 4.9, meaning that values in between 4.9 and 5.8 can belong to all 3 species/labels. So although there is a correlation with the length of the sepal, it isn't exact"
   ]
  },
  {
   "cell_type": "markdown",
   "execution_count": null,
   "metadata": {},
   "source": [
    "### **Sepal width analysis**\n",
    "Here we are just going to do the same thing for sepal width"
   ]
  },
  {
   "cell_type": "code",
   "execution_count": 6,
   "metadata": {},
   "outputs": [
    {
     "name": "stdout",
     "output_type": "stream",
     "text": [
      "Describe for Iris-setosa:\n",
      "       SepalWidthCm\n",
      "count     50.000000\n",
      "mean       3.418000\n",
      "std        0.381024\n",
      "min        2.300000\n",
      "25%        3.125000\n",
      "50%        3.400000\n",
      "75%        3.675000\n",
      "max        4.400000\n",
      "Describe for Iris-versicolor:\n",
      "       SepalWidthCm\n",
      "count     50.000000\n",
      "mean       2.770000\n",
      "std        0.313798\n",
      "min        2.000000\n",
      "25%        2.525000\n",
      "50%        2.800000\n",
      "75%        3.000000\n",
      "max        3.400000\n",
      "Describe for Iris-virginica:\n",
      "       SepalWidthCm\n",
      "count     50.000000\n",
      "mean       2.974000\n",
      "std        0.322497\n",
      "min        2.200000\n",
      "25%        2.800000\n",
      "50%        3.000000\n",
      "75%        3.175000\n",
      "max        3.800000\n"
     ]
    }
   ],
   "source": [
    "sWidth = df[['SepalWidthCm','Species']]\n",
    "sWidth_bySpecies = {}\n",
    "for i, id in enumerate(sWidth['Species'].unique()):\n",
    "    sWidth_bySpecies[id] = sWidth[sWidth['Species'] == id]\n",
    "for spec in sWidth_bySpecies:\n",
    "    print(\"Describe for \" + spec + \":\")\n",
    "    print(sWidth_bySpecies[spec].describe())"
   ]
  },
  {
   "cell_type": "markdown",
   "execution_count": null,
   "metadata": {},
   "source": [
    "* Because Iris-setosa's sepal width is 3.41 which is a big enough difference compared to the other two to say generally iris-setosa will have wider sepals than the other two. \n",
    "* But since iris-versicolor and iris-virginica's difference in mean is only 0.2, there is no definitive correlation to differentiate between these two using only the sepal width."
   ]
  },
  {
   "cell_type": "markdown",
   "execution_count": null,
   "metadata": {},
   "source": [
    "### **Petal length analysis**"
   ]
  },
  {
   "cell_type": "code",
   "execution_count": 7,
   "metadata": {},
   "outputs": [
    {
     "name": "stdout",
     "output_type": "stream",
     "text": [
      "Describe for Iris-setosa:\n",
      "       PetalLengthCm\n",
      "count      50.000000\n",
      "mean        1.464000\n",
      "std         0.173511\n",
      "min         1.000000\n",
      "25%         1.400000\n",
      "50%         1.500000\n",
      "75%         1.575000\n",
      "max         1.900000\n",
      "Describe for Iris-versicolor:\n",
      "       PetalLengthCm\n",
      "count      50.000000\n",
      "mean        4.260000\n",
      "std         0.469911\n",
      "min         3.000000\n",
      "25%         4.000000\n",
      "50%         4.350000\n",
      "75%         4.600000\n",
      "max         5.100000\n",
      "Describe for Iris-virginica:\n",
      "       PetalLengthCm\n",
      "count      50.000000\n",
      "mean        5.552000\n",
      "std         0.551895\n",
      "min         4.500000\n",
      "25%         5.100000\n",
      "50%         5.550000\n",
      "75%         5.875000\n",
      "max         6.900000\n"
     ]
    }
   ],
   "source": [
    "pLength = df[['PetalLengthCm','Species']]\n",
    "pLength_bySpecies = {}\n",
    "for i, id in enumerate(pLength['Species'].unique()):\n",
    "    pLength_bySpecies[id] = pLength[pLength['Species'] == id]\n",
    "for spec in pLength_bySpecies:\n",
    "    print(\"Describe for \" + spec + \":\")\n",
    "    print(pLength_bySpecies[spec].describe())"
   ]
  },
  {
   "cell_type": "markdown",
   "execution_count": null,
   "metadata": {},
   "source": [
    "* There is a huge distinction between the Iris-setosa mean and the other two species. In fact, Iris-setosa's max is 1.9, while the others min is 3.0 and 4.5, so there is a large disparity and would be wise using this feature if comparing Iris-setosa to the others. \n",
    "* Iris-versicolor and Iris-virginica also has a difference, although it isn't as stark. But is still worth while."
   ]
  },
  {
   "cell_type": "markdown",
   "execution_count": null,
   "metadata": {},
   "source": [
    "### **Petal width analysis**"
   ]
  },
  {
   "cell_type": "code",
   "execution_count": 8,
   "metadata": {},
   "outputs": [
    {
     "name": "stdout",
     "output_type": "stream",
     "text": [
      "Describe for Iris-setosa:\n",
      "       PetalWidthCm\n",
      "count      50.00000\n",
      "mean        0.24400\n",
      "std         0.10721\n",
      "min         0.10000\n",
      "25%         0.20000\n",
      "50%         0.20000\n",
      "75%         0.30000\n",
      "max         0.60000\n",
      "Describe for Iris-versicolor:\n",
      "       PetalWidthCm\n",
      "count     50.000000\n",
      "mean       1.326000\n",
      "std        0.197753\n",
      "min        1.000000\n",
      "25%        1.200000\n",
      "50%        1.300000\n",
      "75%        1.500000\n",
      "max        1.800000\n",
      "Describe for Iris-virginica:\n",
      "       PetalWidthCm\n",
      "count      50.00000\n",
      "mean        2.02600\n",
      "std         0.27465\n",
      "min         1.40000\n",
      "25%         1.80000\n",
      "50%         2.00000\n",
      "75%         2.30000\n",
      "max         2.50000\n"
     ]
    }
   ],
   "source": [
    "pWidth = df[['PetalWidthCm','Species']]\n",
    "pWidth_bySpecies = {}\n",
    "for i, id in enumerate(pWidth['Species'].unique()):\n",
    "    pWidth_bySpecies[id] = pWidth[pWidth['Species'] == id]\n",
    "for spec in pWidth_bySpecies:\n",
    "    print(\"Describe for \" + spec + \":\")\n",
    "    print(pWidth_bySpecies[spec].describe())"
   ]
  },
  {
   "cell_type": "markdown",
   "execution_count": null,
   "metadata": {},
   "source": [
    "* Just like petal length, petal width is very effective in distinguishing iris-setosa with the other two.\n",
    "* But Petal width is better than petal length in distinguishing iris-versicolor and iris-virginica"
   ]
  },
  {
   "cell_type": "markdown",
   "execution_count": null,
   "metadata": {},
   "source": [
    "### **Overall feature analysis**"
   ]
  },
  {
   "cell_type": "markdown",
   "execution_count": null,
   "metadata": {},
   "source": [
    "* In terms of feature importance just from the human eye and intuition:\n",
    "    1. Petal Width (Most important, distinguishes setosa to versicolor and virginica)\n",
    "    2. Petal Length\n",
    "    3. Sepal Length (But most important when it comes to distinguishing versicolor and virginica)\n",
    "    4. Sepal Width"
   ]
  },
  {
   "cell_type": "markdown",
   "execution_count": null,
   "metadata": {},
   "source": [
    "### **Graphing 2 features**"
   ]
  },
  {
   "cell_type": "code",
   "execution_count": 9,
   "metadata": {},
   "outputs": [
    {
     "name": "stdout",
     "output_type": "stream",
     "text": [
      "Iris-versicolor    25\n",
      "Iris-virginica     25\n",
      "Iris-setosa        25\n",
      "Name: Species, dtype: int64\n"
     ]
    }
   ],
   "source": [
    "#Everything must be done by COPY\n",
    "X , y = df.iloc[:,[0,1,2,3]].copy() , df['Species'].copy()\n",
    "X_train, X_test, y_train, y_test = train_test_split(X, y, stratify = y, test_size = 0.5, random_state = 1)\n",
    "print(y_train.value_counts())\n",
    "X_train = X_train.values; X_test = X_test.values; y_train = y_train.values; y_test = y_test.values"
   ]
  },
  {
   "cell_type": "markdown",
   "execution_count": null,
   "metadata": {},
   "source": [
    "* Here ^ we see we have split the classes into even amounts"
   ]
  },
  {
   "cell_type": "code",
   "execution_count": 10,
   "metadata": {},
   "outputs": [],
   "source": [
    "#Returns 2-D Array of combinations in form: [[x1,x2],[x3,x4]...[xi,xj]]\n",
    "def combinations(x):\n",
    "    count = 0\n",
    "    mesh = np.array(np.meshgrid(x,x))\n",
    "    combination = mesh.T.reshape(-1,2)  #Gives me same pairs like [0,0], and converse/commutative like [0,1] [1,0] i need to get rid of these\n",
    "    arr = [tuple(row) for row in np.sort(combination)]; uniq1 = np.unique(arr, axis = 0) #This will get rid of converse/commutative ones\n",
    "    for i,row in enumerate(uniq1): #This will get rid of same pairs like [0,0]\n",
    "        if row[0] == row[1]:\n",
    "            uniq1 = np.delete(uniq1, count, axis = 0)\n",
    "            count = count - 1\n",
    "        count = count + 1\n",
    "    return uniq1"
   ]
  },
  {
   "cell_type": "code",
   "execution_count": 11,
   "metadata": {},
   "outputs": [],
   "source": [
    "#Will graph grapha a scatterplot coloring the unique classes\n",
    "def scatterClass(axe, feature, xval, yval):\n",
    "    for i,idx in enumerate(df[feature].unique()):\n",
    "        x = np.array(y_train[:] == idx)\n",
    "        axe.scatter(X_train[x,xval], X_train[x,yval], label = idx) #It's somehow automatically coloring using distinct colors per species\n",
    "        axe.set_xlabel(X.columns[xval])\n",
    "        axe.set_ylabel(X.columns[yval])\n",
    "        axe.legend()"
   ]
  },
  {
   "cell_type": "code",
   "execution_count": 12,
   "metadata": {},
   "outputs": [
    {
     "data": {
      "image/png": "[encoded data removed]",
      "text/plain": [
       "<Figure size 2160x720 with 6 Axes>"
      ]
     },
     "metadata": {
      "needs_background": "light"
     },
     "output_type": "display_data"
    }
   ],
   "source": [
    "combs = combinations(np.array([0,1,2,3]))\n",
    "iterations = np.size(combs, axis=0)\n",
    "plt.figure(figsize=(30,10))\n",
    "for j in range(iterations):\n",
    "    ax = plt.subplot(2,4,j+1)\n",
    "    tup = combs[j,:]#grab tupple of combinations in form (x,y) and I should have num = iterations of combinations\n",
    "    scatterClass(ax, 'Species', tup[0], tup[1])\n",
    "plt.tight_layout()\n",
    "plt.show()"
   ]
  },
  {
   "cell_type": "markdown",
   "execution_count": null,
   "metadata": {},
   "source": [
    "* Looking at every way we can graph the flowers using only 2 features, shows us that there is not perfect linear seperator if we only use 2 features. \n",
    "* There are some that are better than others however, the best combination being PetalLengthCm and PetalWidthCm.\n",
    "* The worst combination is SepalLengthCm and SepalWidthCm, which we deduced just from looking at the means, min, and max from before. \n",
    "* Seeing as there is no way we can have a perfect linear seperable line seperating Iris-versicolor and Iris-virginica, let us see if 3 features will do the trick"
   ]
  },
  {
   "cell_type": "markdown",
   "execution_count": null,
   "metadata": {},
   "source": [
    "# Line Fitting By Hand"
   ]
  },
  {
   "cell_type": "markdown",
   "execution_count": null,
   "metadata": {},
   "source": [
    "Here, we practice our visualization skills by adding interactivity and lines to correspond to linear models."
   ]
  },
  {
   "cell_type": "markdown",
   "execution_count": null,
   "metadata": {},
   "source": [
    "* We will first use the features *PetalLengthCm* and *PetalWidthCm* , meaning our coefficient vector will look like: $w$ = $[w_0,w_1,w_2]$\n",
    "* Since we are using/comparing different linear models, we know that the linear decision boundary, $z$ , will be a linear combination of $w$ and inputs, $x$ , and needs a bias, $w_0$ , so that gives us: \n",
    "\n",
    "$${z = w^Tx = }\\sum_{n}w_ix_i = w_0 + w_1x_1 + w_2x_2 + ... w_ix_i$$\n",
    "* The boundary will be where $z = w_0 + w_1x_1 + ... w_ix_i = 0$.\n",
    "* Using algebra, in this scenario with only 2 features, $w_0 + w_1x_1 + w_2x_2 = 0 \\rightarrow x_2 = -(\\frac{w_1}{w_2}x_1 + \\frac{w_0}{w_2})$\n",
    "* The prediction rule **(For this example, does not apply to every supervised learning algorithm!!!!)** is simply:\n",
    "$$\\hat{y} = \\left\\{ \\begin{array}{rc1}\n",
    "    1 & \\mbox{if} & {z} \\geq {0} \\\\\n",
    "    0 & \\mbox{else} & {z < 0} \\end{array}\\right.$$\n",
    "  Where 1 and 0 are different classes. This is also the **THRESHOLD FUNCTION!**\n",
    "* Example:\n",
    "  $$x = [1,  3]$$\n",
    "  $$w = [2 ,1, -2 ]$$\n",
    "  $$z = 2 + 1*1 + -2*3 = -3$$\n",
    "  $$z = -3 < 0$$\n",
    "  $$\\hat{y} = 0$$\n",
    " Therefore, we predict the class is 0 for data point $x = [1, 3]$\n",
    "* But we will first focus on fine tuning the weight coefficients, $w_1$ , $w_2$ , and $w_0$ by hand"
   ]
  },
  {
   "cell_type": "markdown",
   "execution_count": null,
   "metadata": {},
   "source": [
    "We must first make a function that will be able to draw a line using these principles from the weight coefficients $w$.\n",
    "However since we will be eventually coloring in regions, we will want to use contour instead of just making a regular line plot."
   ]
  },
  {
   "cell_type": "markdown",
   "execution_count": null,
   "metadata": {},
   "source": [
    "We first grab the graph in question:"
   ]
  },
  {
   "cell_type": "code",
   "execution_count": 13,
   "metadata": {},
   "outputs": [
    {
     "data": {
      "image/png": "[encoded data removed]",
      "text/plain": [
       "<Figure size 720x720 with 1 Axes>"
      ]
     },
     "metadata": {
      "needs_background": "light"
     },
     "output_type": "display_data"
    }
   ],
   "source": [
    "plt.figure(figsize=(10,10))\n",
    "ax = plt.subplot()\n",
    "scatterClass(ax, 'Species', 2, 3)\n",
    "plt.show()"
   ]
  },
  {
   "cell_type": "markdown",
   "execution_count": null,
   "metadata": {},
   "source": [
    "Now we need to make a vector $w = [w_0, w_1, w_2]$ with bias $w_0$ that allows us to seperate *Iris-Setosa* from *Iris-versicolor*:"
   ]
  },
  {
   "cell_type": "markdown",
   "execution_count": null,
   "metadata": {},
   "source": [
    "### **Creating an Line from interactive plot for contourf() and plot()**"
   ]
  },
  {
   "cell_type": "markdown",
   "execution_count": null,
   "metadata": {},
   "source": [
    "contourf():"
   ]
  },
  {
   "cell_type": "code",
   "execution_count": 14,
   "metadata": {},
   "outputs": [
    {
     "data": {
      "image/png": "[encoded data removed]",
      "text/plain": [
       "<Figure size 432x288 with 1 Axes>"
      ]
     },
     "metadata": {
      "needs_background": "light"
     },
     "output_type": "display_data"
    }
   ],
   "source": [
    "#Using countourf\n",
    "#Lets first make a normal line y = x + 0 which means w0 = 0, w1 = 1, w2 = -1\n",
    "w = np.array([0,1,-1])\n",
    "delta = 0.025\n",
    "def weightsContourf(w0,w1,w2):\n",
    "    return contourfLine(np.array([w0,w1,w2]))\n",
    "def contourfLine(w):\n",
    "    x = np.arange(df['PetalLengthCm'].values.min() - 0.25, df['PetalLengthCm'].values.max() + 0.25,delta) #We are using PetalLengthCm\n",
    "    y = np.arange(df['PetalWidthCm'].values.min() - 0.25,df['PetalWidthCm'].values.max() + 0.25,delta)\n",
    "    x1,x2 = np.meshgrid(x,y)\n",
    "    #Now I want to be able to make tuples to span through the entire graph from 0 to 3\n",
    "    x_vector = np.array([x1.ravel(),x2.ravel()]).T #We have coordinates [x1,x2] = [0,0],[0,1],[0,2]...[3,3]\n",
    "    Z = x_vector.dot(w[1:]) + w[0] #This is z = w0 + w1*x1 ... + wn*xn\n",
    "    Z = Z.reshape(x1.shape)\n",
    "    y_hat = np.where(Z >= 0, 1, -1) #This is where the prediction is made according to the value of Z\n",
    "    fig, ax = plt.subplots()\n",
    "    ax.contourf(x1, x2, y_hat, alpha = 0.8)\n",
    "    scatterClass(ax,'Species',2,3)\n",
    "    plt.title(\"Contourf\")\n",
    "    plt.xlabel('PetalLengthCm')\n",
    "    plt.ylabel('PetalWidthCm')\n",
    "    plt.show()\n",
    "dis1 = interactive(weightsContourf, w0=widgets.FloatSlider(min=-3,max=3,step=0.1,value=2), w1=widgets.FloatSlider(min=-3,max=3,step=0.1,value=-0.5), w2=widgets.FloatSlider(min=-3,max=3,step=0.1,value=-1))\n",
    "display(dis1)"
   ]
  },
  {
   "cell_type": "markdown",
   "execution_count": null,
   "metadata": {},
   "source": [
    "* We see that if $w_0 = 2$ , $w_1 = -0.5$ , $w_2 = -1$, then we find a perfectly linear decision boundary splitting Iris-setosa and the other 2 classes.\n",
    "* However there are infinitely many valid weight values for a linear decision boundary, this is just one example."
   ]
  },
  {
   "cell_type": "markdown",
   "execution_count": null,
   "metadata": {},
   "source": [
    "plot():"
   ]
  },
  {
   "cell_type": "code",
   "execution_count": 15,
   "metadata": {},
   "outputs": [
    {
     "data": {
      "image/png": "[encoded data removed]",
      "text/plain": [
       "<Figure size 432x288 with 1 Axes>"
      ]
     },
     "metadata": {
      "needs_background": "light"
     },
     "output_type": "display_data"
    },
    {
     "name": "stdout",
     "output_type": "stream",
     "text": [
      "\n"
     ]
    }
   ],
   "source": [
    "#Using line plot\n",
    "def weightsLine(w0,w1,w2):\n",
    "    return decisionLine(np.array([w0,w1,w2]))\n",
    "def decisionLine(w):\n",
    "    x = np.arange(df['PetalLengthCm'].values.min() - 0.25, df['PetalLengthCm'].values.max() + 0.25,delta)\n",
    "    fig, ax = plt.subplots()\n",
    "    if(w[2] == 0 and (w[0] == 0 or w[1] == 0)):\n",
    "        ax.plot()\n",
    "    else:\n",
    "        y = -(w[1]/w[2])*x - (w[0]/w[2])\n",
    "        ax.plot(x,y)\n",
    "    plt.title(\"Line Plot\")\n",
    "    scatterClass(ax,'Species',2,3)\n",
    "    plt.xlabel('PetalLengthCm')\n",
    "    plt.ylabel('PetalWidthCm')\n",
    "    plt.xlim(df['PetalLengthCm'].values.min() - 0.25, df['PetalLengthCm'].values.max())\n",
    "    plt.ylim(df['PetalWidthCm'].values.min() - 0.25,df['PetalWidthCm'].values.max())\n",
    "    plt.show()\n",
    "    print()\n",
    "disp2 = interactive(weightsLine, w0=widgets.FloatSlider(min=-3,max=3,step=0.1,value=2), w1=widgets.FloatSlider(min=-3,max=3,step=0.1,value=-0.5), w2=widgets.FloatSlider(min=-3,max=3,step=0.1,value=-1))\n",
    "display(disp2)"
   ]
  },
  {
   "cell_type": "markdown",
   "execution_count": null,
   "metadata": {},
   "source": [
    "* We can see the same applies if we just use a simple plot to graph the decision boundary"
   ]
  },
  {
   "cell_type": "markdown",
   "execution_count": null,
   "metadata": {},
   "source": [
    "# Basic Perceptron Learning"
   ]
  },
  {
   "cell_type": "markdown",
   "execution_count": null,
   "metadata": {},
   "source": [
    "* Now that we see how everything looks and understand how things are spread out, we can train a basic model to compare its accuracy using a Perceptron which we know will not be 100%.\n",
    "* We know it would be perfect for seperating Iris-setsa from the other two with 100% however, so we will start with that since its easy to visualize binary classification.\n",
    "* First we will train without standardization, so we need to see how the training is done from a Perceptron:\n",
    "    1. Initialize the weights to zero or some small random number, and make sure the class labels are either -1 or 1 since the predictions will be as well\n",
    "    2. For each training example, $i$ , we compute the prediction, $\\hat{y}$ using the rule we stated above, then update weights based on:\n",
    "    $$w_j = w_j + \\Delta{w_j}$$ \n",
    "    $$\\Delta{w_j} = \\eta(y^{(i)}-\\hat{y}^{(i)})x_j^{(i)}$$\n",
    "    Where $\\eta$ is the learning rate"
   ]
  },
  {
   "cell_type": "code",
   "execution_count": 16,
   "metadata": {},
   "outputs": [],
   "source": [
    "#This is used to make sure we don't have Iris-virginica in our data to keep it an easy binary classification\n",
    "#Note, y_test[2] didn't work because the index is not correct\n",
    "X_train_novirg = X_train.copy()\n",
    "y_train_novirg = y_train.copy()\n",
    "counter = 0\n",
    "for i in range(len(y_train)):\n",
    "    if y_train[i] == 'Iris-virginica':\n",
    "        X_train_novirg = np.delete(X_train_novirg,counter, axis=0)\n",
    "        y_train_novirg = np.delete(y_train_novirg,counter)\n",
    "        counter = counter - 1\n",
    "    counter = counter + 1\n",
    "X_train_novirg = X_train_novirg[:,[2,3]] #This will give us [PetalLengthCm,PetalWidthCm]\n",
    "y_train_novirg = np.where(y_train_novirg == 'Iris-setosa',1,-1) #Turns class labels into 1 and -1\n",
    "\n",
    "X_test_novirg = X_test.copy()\n",
    "y_test_novirg = y_test.copy()\n",
    "counter = 0\n",
    "for i in range(len(y_test)):\n",
    "    if y_test[i] == 'Iris-virginica':\n",
    "        X_test_novirg = np.delete(X_test_novirg,counter,axis=0)\n",
    "        y_test_novirg = np.delete(y_test_novirg,counter,axis=0)\n",
    "        counter = counter - 1\n",
    "    counter = counter + 1\n",
    "X_test_novirg = X_test_novirg[:,[2,3]]\n",
    "y_test_novirg = np.where(y_test_novirg == 'Iris-setosa',1,-1)"
   ]
  },
  {
   "cell_type": "markdown",
   "execution_count": null,
   "metadata": {},
   "source": [
    "* **We can see that with only 10 epochs, it perfectly separates the two**"
   ]
  },
  {
   "cell_type": "code",
   "execution_count": 17,
   "metadata": {},
   "outputs": [
    {
     "data": {
      "image/png": "[encoded data removed]",
      "text/plain": [
       "<Figure size 432x288 with 1 Axes>"
      ]
     },
     "metadata": {
      "needs_background": "light"
     },
     "output_type": "display_data"
    }
   ],
   "source": [
    "from sklearn.linear_model import Perceptron\n",
    "ppt = Perceptron(penalty = None, alpha = 0.01, max_iter = 10, shuffle = True, eta0 = 1, random_state = 1) #tol is the stopping criteria, which is a parameter as well\n",
    "ppt.fit(X_train_novirg,y_train_novirg)\n",
    "weightsContourf(ppt.intercept_,ppt.coef_[0,0],ppt.coef_[0,1])"
   ]
  },
  {
   "cell_type": "code",
   "execution_count": 18,
   "metadata": {},
   "outputs": [
    {
     "name": "stdout",
     "output_type": "stream",
     "text": [
      "Score for training set: 100.0%\n",
      "Score for test set: 100.0%\n",
      "Weights: [[-0.8 -1.2]] Intercept: [3.]\n"
     ]
    }
   ],
   "source": [
    "print(\"Score for training set: \" + str(ppt.score(X_train_novirg,y_train_novirg)*100) + \"%\")\n",
    "print(\"Score for test set: \" + str(ppt.score(X_test_novirg,y_test_novirg)*100) + \"%\")\n",
    "print(\"Weights:\" ,ppt.coef_, \"Intercept:\", ppt.intercept_)"
   ]
  },
  {
   "cell_type": "markdown",
   "execution_count": null,
   "metadata": {},
   "source": [
    "* **Now we will try to focus on separating Iris-versicolor and Iris-virginica**."
   ]
  },
  {
   "cell_type": "markdown",
   "execution_count": null,
   "metadata": {},
   "source": [
    "We can see that the best possible line would only give us 2 wrong, which means it gets 48/50 right, so we have 96% accuracy as the best accuracy"
   ]
  },
  {
   "cell_type": "code",
   "execution_count": 19,
   "metadata": {},
   "outputs": [],
   "source": [
    "X_train_noset = X_train[:,[2,3]].copy()\n",
    "y_train_noset = y_train.copy()\n",
    "X_test_noset = X_test[:,[2,3]].copy()\n",
    "y_test_noset = y_test.copy()\n",
    "counter = 0\n",
    "for i in range(len(y_train)):\n",
    "    if y_train[i] == 'Iris-setosa':\n",
    "        X_train_noset = np.delete(X_train_noset,counter,axis=0)\n",
    "        y_train_noset = np.delete(y_train_noset,counter)\n",
    "        counter = counter - 1\n",
    "    counter = counter + 1\n",
    "y_train_noset = np.where(y_train_noset == 'Iris-versicolor', 1 ,-1)\n",
    "counter = 0\n",
    "for i in range(len(y_test)):\n",
    "    if y_test[i] == 'Iris-setosa':\n",
    "        X_test_noset = np.delete(X_test_noset,counter,axis=0)\n",
    "        y_test_noset = np.delete(y_test_noset,counter)\n",
    "        counter = counter - 1\n",
    "    counter = counter + 1\n",
    "y_test_noset = np.where(y_test_noset == 'Iris-versicolor', 1 ,-1)"
   ]
  },
  {
   "cell_type": "code",
   "execution_count": 20,
   "metadata": {},
   "outputs": [
    {
     "data": {
      "image/png": "[encoded data removed]",
      "text/plain": [
       "<Figure size 432x288 with 1 Axes>"
      ]
     },
     "metadata": {
      "needs_background": "light"
     },
     "output_type": "display_data"
    }
   ],
   "source": [
    "ppt2 = Perceptron(max_iter = 1000000, shuffle = True, random_state = 1, eta0 = 0.000001, tol = None) #Note, setting tol to None will allow it to go past 1e-3 which is very important\n",
    "ppt2.fit(X_train_noset,y_train_noset)\n",
    "weightsContourf(ppt2.intercept_,ppt2.coef_[0,0],ppt2.coef_[0,1])"
   ]
  },
  {
   "cell_type": "code",
   "execution_count": 21,
   "metadata": {},
   "outputs": [
    {
     "name": "stdout",
     "output_type": "stream",
     "text": [
      "Score for training set:  94.0%\n",
      "# of wrong classifications: 3.0000000000000027\n",
      "\n",
      "Score for testing set:  98.0%\n",
      "# of wrong classifications: 1.0000000000000009\n"
     ]
    }
   ],
   "source": [
    "print(\"Score for training set: \", str(ppt2.score(X_train_noset,y_train_noset)*100)+\"%\")\n",
    "print(\"# of wrong classifications:\" , str((1. - ppt2.score(X_train_noset,y_train_noset))*len(X_train_noset)))\n",
    "print()\n",
    "print(\"Score for testing set: \", str(ppt2.score(X_test_noset,y_test_noset)*100)+\"%\")\n",
    "print(\"# of wrong classifications:\" , str((1. - ppt2.score(X_test_noset,y_test_noset))*len(X_test_noset)))"
   ]
  },
  {
   "cell_type": "markdown",
   "execution_count": null,
   "metadata": {},
   "source": [
    "* We see that the best that we can do is only get 94% for training data, and 98% for testing data. But this doesn't match up with our own line which gives us 96% accuracy. After testing with parameters, I can't seem to make the perceptron reach 96%.\n",
    "* Lets see if we can do better with more features."
   ]
  },
  {
   "cell_type": "markdown",
   "execution_count": null,
   "metadata": {},
   "source": [
    "### **3-D Graphing**"
   ]
  },
  {
   "cell_type": "markdown",
   "execution_count": null,
   "metadata": {},
   "source": [
    "We can see that only using 2 features, we wouldn't be able to perfectly split versicolor and virginica. So we will up the count to 3 features/dimensions.\n",
    "* We will the reuse the same 2 features, but we don't know what the third feature should be."
   ]
  },
  {
   "cell_type": "code",
   "execution_count": 22,
   "metadata": {},
   "outputs": [],
   "source": [
    "#First we will use SepalWidthCm\n",
    "X_3d = df[['SepalWidthCm','PetalLengthCm','PetalWidthCm']].copy().values\n",
    "y_3d = df['Species'].values\n",
    "#Now delete Iris-setosa\n",
    "X_vv = X_3d.copy()\n",
    "y_vv = y_3d.copy()\n",
    "counter = 0\n",
    "for i in range(len(y)):\n",
    "    if y[i] == 'Iris-setosa':\n",
    "        X_vv = np.delete(X_vv,counter, axis = 0)\n",
    "        y_vv = np.delete(y_vv,counter)\n",
    "        counter = counter - 1\n",
    "    counter = counter + 1\n",
    "#split the training and testing data set\n",
    "X_vv_train, X_vv_test, y_vv_train, y_vv_test = train_test_split(X_vv, y_vv, stratify = y_vv, test_size = 0.50, random_state = 1)"
   ]
  },
  {
   "cell_type": "code",
   "execution_count": 23,
   "metadata": {},
   "outputs": [
    {
     "data": {
      "image/png": "[encoded data removed]",
      "text/plain": [
       "<Figure size 432x288 with 1 Axes>"
      ]
     },
     "metadata": {
      "needs_background": "light"
     },
     "output_type": "display_data"
    }
   ],
   "source": [
    "from mpl_toolkits.mplot3d import Axes3D\n",
    "fig = plt.figure()\n",
    "ax = fig.add_subplot(111, projection='3d')\n",
    "for i in np.unique(y_vv):\n",
    "    index = np.array(y_vv[:] == i)\n",
    "    ax.scatter(X_vv[index,0],X_vv[index,1],X_vv[index,2], label = i)\n",
    "plt.show()"
   ]
  },
  {
   "cell_type": "markdown",
   "execution_count": null,
   "metadata": {},
   "source": [
    "Lets train the Perceptron now"
   ]
  },
  {
   "cell_type": "code",
   "execution_count": 24,
   "metadata": {},
   "outputs": [
    {
     "name": "stdout",
     "output_type": "stream",
     "text": [
      "Score for training set:  98.0%\n",
      "# of wrong classifications: 1.0000000000000009\n",
      "\n",
      "Score for testing set:  96.0%\n",
      "# of wrong classifications: 2.0000000000000018\n"
     ]
    }
   ],
   "source": [
    "ppt3 = Perceptron(max_iter = 1000000, shuffle = True, random_state = 1, eta0 = 0.000001, tol = None)\n",
    "ppt3.fit(X_vv_train, y_vv_train)\n",
    "print(\"Score for training set: \", str(ppt3.score(X_vv_train,y_vv_train)*100)+\"%\")\n",
    "print(\"# of wrong classifications:\" , str((1. - ppt3.score(X_vv_train,y_vv_train))*len(X_vv_train)))\n",
    "print()\n",
    "print(\"Score for testing set: \", str(ppt3.score(X_vv_test,y_vv_test)*100)+\"%\")\n",
    "print(\"# of wrong classifications:\" , str((1. - ppt3.score(X_vv_test,y_vv_test))*len(X_vv_test)))"
   ]
  },
  {
   "cell_type": "markdown",
   "execution_count": null,
   "metadata": {},
   "source": [
    "* Using these parameters, we see that our training set is more accurate, even more that the percect boundary.\n",
    "* But more importantly, we see that the testing set is less accurate than before. This means we need to mess with some parameters."
   ]
  },
  {
   "cell_type": "code",
   "execution_count": 25,
   "metadata": {},
   "outputs": [
    {
     "name": "stdout",
     "output_type": "stream",
     "text": [
      "Training accuracy:  94.0%\n",
      "Testing accuracy:  98.0%\n"
     ]
    }
   ],
   "source": [
    "ppt3 = Perceptron(max_iter = 10000, shuffle = True, random_state = 1, eta0 = 0.00000001, tol = None)\n",
    "ppt3.fit(X_vv_train,y_vv_train)\n",
    "print(\"Training accuracy: \", str(ppt3.score(X_vv_train,y_vv_train)*100)+\"%\")\n",
    "print(\"Testing accuracy: \", str(ppt3.score(X_vv_test,y_vv_test)*100)+\"%\")"
   ]
  },
  {
   "cell_type": "markdown",
   "execution_count": null,
   "metadata": {},
   "source": [
    "* Even trying to fine tune the agent by messing with max_iter and eta0 didn't do anything significant."
   ]
  },
  {
   "cell_type": "markdown",
   "execution_count": null,
   "metadata": {},
   "source": [
    "### **Using all features**"
   ]
  },
  {
   "cell_type": "code",
   "execution_count": 26,
   "metadata": {},
   "outputs": [],
   "source": [
    "X_all = df.iloc[:,[0,1,2,3]].values\n",
    "y_all = df.iloc[:,-1].values\n",
    "y_all = np.reshape(y_all,(-1,1))\n",
    "#Now delete Iris-setosa\n",
    "X_all_vv = X_all.copy()\n",
    "y_all_vv = y_all.copy()\n",
    "counter = 0\n",
    "for i in range(len(y_all)):\n",
    "    if y_all[i] == 'Iris-setosa':\n",
    "        X_all_vv = np.delete(X_all_vv,counter, axis = 0)\n",
    "        y_all_vv = np.delete(y_all_vv,counter)\n",
    "        counter = counter - 1\n",
    "    counter = counter + 1\n",
    "#split the training and testing data set\n",
    "X_all_vv_train, X_all_vv_test, y_all_vv_train, y_all_vv_test = train_test_split(X_all_vv, y_all_vv, stratify = y_vv, test_size = 0.50, random_state = 1)"
   ]
  },
  {
   "cell_type": "code",
   "execution_count": 27,
   "metadata": {},
   "outputs": [
    {
     "name": "stdout",
     "output_type": "stream",
     "text": [
      "Training accuracy:  100.0%\n",
      "Testing accuracy:  96.0%\n"
     ]
    }
   ],
   "source": [
    "ppt4 = Perceptron(max_iter = 1000, eta0 = 0.001, shuffle = True, random_state = 1, tol = None)\n",
    "ppt4.fit(X_all_vv_train, y_all_vv_train)\n",
    "print(\"Training accuracy: \", str(ppt4.score(X_all_vv_train,y_all_vv_train)*100)+\"%\")\n",
    "print(\"Testing accuracy: \", str(ppt4.score(X_all_vv_test,y_all_vv_test)*100)+\"%\")"
   ]
  },
  {
   "cell_type": "markdown",
   "execution_count": null,
   "metadata": {},
   "source": [
    "We can see that with this, our accuracy can finally hit 100% on training data, but testing data is still not as accurate as with only using 2 features."
   ]
  },
  {
   "cell_type": "code",
   "execution_count": 28,
   "metadata": {},
   "outputs": [
    {
     "name": "stdout",
     "output_type": "stream",
     "text": [
      "Training accuracy:  100.0%\n",
      "Testing accuracy:  96.0%\n"
     ]
    }
   ],
   "source": [
    "ppt4 = Perceptron(max_iter = 3000000, eta0 = 0.000001, shuffle = True, random_state = 1, tol = None)\n",
    "ppt4.fit(X_all_vv_train, y_all_vv_train)\n",
    "print(\"Training accuracy: \", str(ppt4.score(X_all_vv_train,y_all_vv_train)*100)+\"%\")\n",
    "print(\"Testing accuracy: \", str(ppt4.score(X_all_vv_test,y_all_vv_test)*100)+\"%\")"
   ]
  },
  {
   "cell_type": "markdown",
   "execution_count": null,
   "metadata": {},
   "source": [
    "And after quick parameter testing, we can see no difference is being made."
   ]
  },
  {
   "cell_type": "markdown",
   "execution_count": null,
   "metadata": {},
   "source": [
    "### What these different models tell us, is that we overfitted because of how with only 2 features we still managed to get 98% compared to 96% when using 4 features."
   ]
  }
 ],
 "metadata": {
  "kernelspec": {
   "display_name": "Python 3",
   "language": "python",
   "name": "python3"
  },
  "language_info": {
   "codemirror_mode": {
    "name": "ipython",
    "version": 3
   },
   "file_extension": ".py",
   "mimetype": "text/x-python",
   "name": "python",
   "nbconvert_exporter": "python",
   "pygments_lexer": "ipython3",
   "version": "3.7.6"
  },
  "widgets": {
   "application/vnd.jupyter.widget-state+json": {
    "state": {
     "25debf4457fd4e72b6018596e88d4668": {
      "model_module": "@jupyter-widgets/controls",
      "model_module_version": "1.5.0",
      "model_name": "FloatSliderModel",
      "state": {
       "_dom_classes": [],
       "_model_module": "@jupyter-widgets/controls",
       "_model_module_version": "1.5.0",
       "_model_name": "FloatSliderModel",
       "_view_count": null,
       "_view_module": "@jupyter-widgets/controls",
       "_view_module_version": "1.5.0",
       "_view_name": "FloatSliderView",
       "continuous_update": true,
       "description": "w1",
       "description_tooltip": null,
       "disabled": false,
       "layout": "IPY_MODEL_fccabc2814d342c38f4216a786ed4f82",
       "max": 3.0,
       "min": -3.0,
       "orientation": "horizontal",
       "readout": true,
       "readout_format": ".2f",
       "step": 0.1,
       "style": "IPY_MODEL_485a544058a34de1a7ae08e5166819b3",
       "value": -0.5
      }
     },
     "270a9442984444819d7ae30366908145": {
      "model_module": "@jupyter-widgets/base",
      "model_module_version": "1.2.0",
      "model_name": "LayoutModel",
      "state": {
       "_model_module": "@jupyter-widgets/base",
       "_model_module_version": "1.2.0",
       "_model_name": "LayoutModel",
       "_view_count": null,
       "_view_module": "@jupyter-widgets/base",
       "_view_module_version": "1.2.0",
       "_view_name": "LayoutView",
       "align_content": null,
       "align_items": null,
       "align_self": null,
       "border": null,
       "bottom": null,
       "display": null,
       "flex": null,
       "flex_flow": null,
       "grid_area": null,
       "grid_auto_columns": null,
       "grid_auto_flow": null,
       "grid_auto_rows": null,
       "grid_column": null,
       "grid_gap": null,
       "grid_row": null,
       "grid_template_areas": null,
       "grid_template_columns": null,
       "grid_template_rows": null,
       "height": null,
       "justify_content": null,
       "justify_items": null,
       "left": null,
       "margin": null,
       "max_height": null,
       "max_width": null,
       "min_height": null,
       "min_width": null,
       "object_fit": null,
       "object_position": null,
       "order": null,
       "overflow": null,
       "overflow_x": null,
       "overflow_y": null,
       "padding": null,
       "right": null,
       "top": null,
       "visibility": null,
       "width": null
      }
     },
     "2f19123c4d934f3da29a256fd89c7e06": {
      "model_module": "@jupyter-widgets/controls",
      "model_module_version": "1.5.0",
      "model_name": "SliderStyleModel",
      "state": {
       "_model_module": "@jupyter-widgets/controls",
       "_model_module_version": "1.5.0",
       "_model_name": "SliderStyleModel",
       "_view_count": null,
       "_view_module": "@jupyter-widgets/base",
       "_view_module_version": "1.2.0",
       "_view_name": "StyleView",
       "description_width": "",
       "handle_color": null
      }
     },
     "33940655d2ee448cbaf9ba7be5747e26": {
      "model_module": "@jupyter-widgets/base",
      "model_module_version": "1.2.0",
      "model_name": "LayoutModel",
      "state": {
       "_model_module": "@jupyter-widgets/base",
       "_model_module_version": "1.2.0",
       "_model_name": "LayoutModel",
       "_view_count": null,
       "_view_module": "@jupyter-widgets/base",
       "_view_module_version": "1.2.0",
       "_view_name": "LayoutView",
       "align_content": null,
       "align_items": null,
       "align_self": null,
       "border": null,
       "bottom": null,
       "display": null,
       "flex": null,
       "flex_flow": null,
       "grid_area": null,
       "grid_auto_columns": null,
       "grid_auto_flow": null,
       "grid_auto_rows": null,
       "grid_column": null,
       "grid_gap": null,
       "grid_row": null,
       "grid_template_areas": null,
       "grid_template_columns": null,
       "grid_template_rows": null,
       "height": null,
       "justify_content": null,
       "justify_items": null,
       "left": null,
       "margin": null,
       "max_height": null,
       "max_width": null,
       "min_height": null,
       "min_width": null,
       "object_fit": null,
       "object_position": null,
       "order": null,
       "overflow": null,
       "overflow_x": null,
       "overflow_y": null,
       "padding": null,
       "right": null,
       "top": null,
       "visibility": null,
       "width": null
      }
     },
     "3901d396da0d4b3dad208abae295b4b4": {
      "model_module": "@jupyter-widgets/controls",
      "model_module_version": "1.5.0",
      "model_name": "SliderStyleModel",
      "state": {
       "_model_module": "@jupyter-widgets/controls",
       "_model_module_version": "1.5.0",
       "_model_name": "SliderStyleModel",
       "_view_count": null,
       "_view_module": "@jupyter-widgets/base",
       "_view_module_version": "1.2.0",
       "_view_name": "StyleView",
       "description_width": "",
       "handle_color": null
      }
     },
     "4154ad14f9174e2f8861b863686ec6ca": {
      "model_module": "@jupyter-widgets/base",
      "model_module_version": "1.2.0",
      "model_name": "LayoutModel",
      "state": {
       "_model_module": "@jupyter-widgets/base",
       "_model_module_version": "1.2.0",
       "_model_name": "LayoutModel",
       "_view_count": null,
       "_view_module": "@jupyter-widgets/base",
       "_view_module_version": "1.2.0",
       "_view_name": "LayoutView",
       "align_content": null,
       "align_items": null,
       "align_self": null,
       "border": null,
       "bottom": null,
       "display": null,
       "flex": null,
       "flex_flow": null,
       "grid_area": null,
       "grid_auto_columns": null,
       "grid_auto_flow": null,
       "grid_auto_rows": null,
       "grid_column": null,
       "grid_gap": null,
       "grid_row": null,
       "grid_template_areas": null,
       "grid_template_columns": null,
       "grid_template_rows": null,
       "height": null,
       "justify_content": null,
       "justify_items": null,
       "left": null,
       "margin": null,
       "max_height": null,
       "max_width": null,
       "min_height": null,
       "min_width": null,
       "object_fit": null,
       "object_position": null,
       "order": null,
       "overflow": null,
       "overflow_x": null,
       "overflow_y": null,
       "padding": null,
       "right": null,
       "top": null,
       "visibility": null,
       "width": null
      }
     },
     "485a544058a34de1a7ae08e5166819b3": {
      "model_module": "@jupyter-widgets/controls",
      "model_module_version": "1.5.0",
      "model_name": "SliderStyleModel",
      "state": {
       "_model_module": "@jupyter-widgets/controls",
       "_model_module_version": "1.5.0",
       "_model_name": "SliderStyleModel",
       "_view_count": null,
       "_view_module": "@jupyter-widgets/base",
       "_view_module_version": "1.2.0",
       "_view_name": "StyleView",
       "description_width": "",
       "handle_color": null
      }
     },
     "491393f3da454bc38925d414f344cb46": {
      "model_module": "@jupyter-widgets/output",
      "model_module_version": "1.0.0",
      "model_name": "OutputModel",
      "state": {
       "_dom_classes": [],
       "_model_module": "@jupyter-widgets/output",
       "_model_module_version": "1.0.0",
       "_model_name": "OutputModel",
       "_view_count": null,
       "_view_module": "@jupyter-widgets/output",
       "_view_module_version": "1.0.0",
       "_view_name": "OutputView",
       "layout": "IPY_MODEL_5e5e79bb3c364d29811653c06f263210",
       "msg_id": "",
       "outputs": []
      }
     },
     "4e19cea261d345ac85a78925b56356f2": {
      "model_module": "@jupyter-widgets/controls",
      "model_module_version": "1.5.0",
      "model_name": "VBoxModel",
      "state": {
       "_dom_classes": [
        "widget-interact"
       ],
       "_model_module": "@jupyter-widgets/controls",
       "_model_module_version": "1.5.0",
       "_model_name": "VBoxModel",
       "_view_count": null,
       "_view_module": "@jupyter-widgets/controls",
       "_view_module_version": "1.5.0",
       "_view_name": "VBoxView",
       "box_style": "",
       "children": [
        "IPY_MODEL_91a4d19134ad4ac8b7514141c237682c",
        "IPY_MODEL_ac3f7f567e5642769c456fa9c45669da",
        "IPY_MODEL_516a36fc44e24c9eb3103c1fe38dc92c",
        "IPY_MODEL_491393f3da454bc38925d414f344cb46"
       ],
       "layout": "IPY_MODEL_b6c3530cb7dc48e58e799051992b369f"
      }
     },
     "516a36fc44e24c9eb3103c1fe38dc92c": {
      "model_module": "@jupyter-widgets/controls",
      "model_module_version": "1.5.0",
      "model_name": "FloatSliderModel",
      "state": {
       "_dom_classes": [],
       "_model_module": "@jupyter-widgets/controls",
       "_model_module_version": "1.5.0",
       "_model_name": "FloatSliderModel",
       "_view_count": null,
       "_view_module": "@jupyter-widgets/controls",
       "_view_module_version": "1.5.0",
       "_view_name": "FloatSliderView",
       "continuous_update": true,
       "description": "w2",
       "description_tooltip": null,
       "disabled": false,
       "layout": "IPY_MODEL_d281e18db4084100bbcbb202fb5d46c0",
       "max": 3.0,
       "min": -3.0,
       "orientation": "horizontal",
       "readout": true,
       "readout_format": ".2f",
       "step": 0.1,
       "style": "IPY_MODEL_946338ff2cf44a9db8593c29853d5ef4",
       "value": -1.0
      }
     },
     "5e5e79bb3c364d29811653c06f263210": {
      "model_module": "@jupyter-widgets/base",
      "model_module_version": "1.2.0",
      "model_name": "LayoutModel",
      "state": {
       "_model_module": "@jupyter-widgets/base",
       "_model_module_version": "1.2.0",
       "_model_name": "LayoutModel",
       "_view_count": null,
       "_view_module": "@jupyter-widgets/base",
       "_view_module_version": "1.2.0",
       "_view_name": "LayoutView",
       "align_content": null,
       "align_items": null,
       "align_self": null,
       "border": null,
       "bottom": null,
       "display": null,
       "flex": null,
       "flex_flow": null,
       "grid_area": null,
       "grid_auto_columns": null,
       "grid_auto_flow": null,
       "grid_auto_rows": null,
       "grid_column": null,
       "grid_gap": null,
       "grid_row": null,
       "grid_template_areas": null,
       "grid_template_columns": null,
       "grid_template_rows": null,
       "height": null,
       "justify_content": null,
       "justify_items": null,
       "left": null,
       "margin": null,
       "max_height": null,
       "max_width": null,
       "min_height": null,
       "min_width": null,
       "object_fit": null,
       "object_position": null,
       "order": null,
       "overflow": null,
       "overflow_x": null,
       "overflow_y": null,
       "padding": null,
       "right": null,
       "top": null,
       "visibility": null,
       "width": null
      }
     },
     "6a804ebb5c474a2b89b2024292390299": {
      "model_module": "@jupyter-widgets/controls",
      "model_module_version": "1.5.0",
      "model_name": "SliderStyleModel",
      "state": {
       "_model_module": "@jupyter-widgets/controls",
       "_model_module_version": "1.5.0",
       "_model_name": "SliderStyleModel",
       "_view_count": null,
       "_view_module": "@jupyter-widgets/base",
       "_view_module_version": "1.2.0",
       "_view_name": "StyleView",
       "description_width": "",
       "handle_color": null
      }
     },
     "849a0ac8f9ce4d89ad53258b841836ba": {
      "model_module": "@jupyter-widgets/controls",
      "model_module_version": "1.5.0",
      "model_name": "FloatSliderModel",
      "state": {
       "_dom_classes": [],
       "_model_module": "@jupyter-widgets/controls",
       "_model_module_version": "1.5.0",
       "_model_name": "FloatSliderModel",
       "_view_count": null,
       "_view_module": "@jupyter-widgets/controls",
       "_view_module_version": "1.5.0",
       "_view_name": "FloatSliderView",
       "continuous_update": true,
       "description": "w0",
       "description_tooltip": null,
       "disabled": false,
       "layout": "IPY_MODEL_e6c6cf8234e34ad4ac28ebdf66898d0d",
       "max": 3.0,
       "min": -3.0,
       "orientation": "horizontal",
       "readout": true,
       "readout_format": ".2f",
       "step": 0.1,
       "style": "IPY_MODEL_ec1abfd40fe94e929e3a998d79b20ffa",
       "value": 2.0
      }
     },
     "8fb708f31fc141d8aaaa146b10d8687a": {
      "model_module": "@jupyter-widgets/base",
      "model_module_version": "1.2.0",
      "model_name": "LayoutModel",
      "state": {
       "_model_module": "@jupyter-widgets/base",
       "_model_module_version": "1.2.0",
       "_model_name": "LayoutModel",
       "_view_count": null,
       "_view_module": "@jupyter-widgets/base",
       "_view_module_version": "1.2.0",
       "_view_name": "LayoutView",
       "align_content": null,
       "align_items": null,
       "align_self": null,
       "border": null,
       "bottom": null,
       "display": null,
       "flex": null,
       "flex_flow": null,
       "grid_area": null,
       "grid_auto_columns": null,
       "grid_auto_flow": null,
       "grid_auto_rows": null,
       "grid_column": null,
       "grid_gap": null,
       "grid_row": null,
       "grid_template_areas": null,
       "grid_template_columns": null,
       "grid_template_rows": null,
       "height": null,
       "justify_content": null,
       "justify_items": null,
       "left": null,
       "margin": null,
       "max_height": null,
       "max_width": null,
       "min_height": null,
       "min_width": null,
       "object_fit": null,
       "object_position": null,
       "order": null,
       "overflow": null,
       "overflow_x": null,
       "overflow_y": null,
       "padding": null,
       "right": null,
       "top": null,
       "visibility": null,
       "width": null
      }
     },
     "91a4d19134ad4ac8b7514141c237682c": {
      "model_module": "@jupyter-widgets/controls",
      "model_module_version": "1.5.0",
      "model_name": "FloatSliderModel",
      "state": {
       "_dom_classes": [],
       "_model_module": "@jupyter-widgets/controls",
       "_model_module_version": "1.5.0",
       "_model_name": "FloatSliderModel",
       "_view_count": null,
       "_view_module": "@jupyter-widgets/controls",
       "_view_module_version": "1.5.0",
       "_view_name": "FloatSliderView",
       "continuous_update": true,
       "description": "w0",
       "description_tooltip": null,
       "disabled": false,
       "layout": "IPY_MODEL_e80307af00f0498a9514bea1a729f5ec",
       "max": 3.0,
       "min": -3.0,
       "orientation": "horizontal",
       "readout": true,
       "readout_format": ".2f",
       "step": 0.1,
       "style": "IPY_MODEL_6a804ebb5c474a2b89b2024292390299",
       "value": 2.0
      }
     },
     "946338ff2cf44a9db8593c29853d5ef4": {
      "model_module": "@jupyter-widgets/controls",
      "model_module_version": "1.5.0",
      "model_name": "SliderStyleModel",
      "state": {
       "_model_module": "@jupyter-widgets/controls",
       "_model_module_version": "1.5.0",
       "_model_name": "SliderStyleModel",
       "_view_count": null,
       "_view_module": "@jupyter-widgets/base",
       "_view_module_version": "1.2.0",
       "_view_name": "StyleView",
       "description_width": "",
       "handle_color": null
      }
     },
     "98fbddf4be7843e4b210eba15fa7309a": {
      "model_module": "@jupyter-widgets/controls",
      "model_module_version": "1.5.0",
      "model_name": "FloatSliderModel",
      "state": {
       "_dom_classes": [],
       "_model_module": "@jupyter-widgets/controls",
       "_model_module_version": "1.5.0",
       "_model_name": "FloatSliderModel",
       "_view_count": null,
       "_view_module": "@jupyter-widgets/controls",
       "_view_module_version": "1.5.0",
       "_view_name": "FloatSliderView",
       "continuous_update": true,
       "description": "w2",
       "description_tooltip": null,
       "disabled": false,
       "layout": "IPY_MODEL_8fb708f31fc141d8aaaa146b10d8687a",
       "max": 3.0,
       "min": -3.0,
       "orientation": "horizontal",
       "readout": true,
       "readout_format": ".2f",
       "step": 0.1,
       "style": "IPY_MODEL_3901d396da0d4b3dad208abae295b4b4",
       "value": -1.0
      }
     },
     "9be4dc6879ee4105951ae34669145c57": {
      "model_module": "@jupyter-widgets/output",
      "model_module_version": "1.0.0",
      "model_name": "OutputModel",
      "state": {
       "_dom_classes": [],
       "_model_module": "@jupyter-widgets/output",
       "_model_module_version": "1.0.0",
       "_model_name": "OutputModel",
       "_view_count": null,
       "_view_module": "@jupyter-widgets/output",
       "_view_module_version": "1.0.0",
       "_view_name": "OutputView",
       "layout": "IPY_MODEL_33940655d2ee448cbaf9ba7be5747e26",
       "msg_id": "",
       "outputs": []
      }
     },
     "ac3f7f567e5642769c456fa9c45669da": {
      "model_module": "@jupyter-widgets/controls",
      "model_module_version": "1.5.0",
      "model_name": "FloatSliderModel",
      "state": {
       "_dom_classes": [],
       "_model_module": "@jupyter-widgets/controls",
       "_model_module_version": "1.5.0",
       "_model_name": "FloatSliderModel",
       "_view_count": null,
       "_view_module": "@jupyter-widgets/controls",
       "_view_module_version": "1.5.0",
       "_view_name": "FloatSliderView",
       "continuous_update": true,
       "description": "w1",
       "description_tooltip": null,
       "disabled": false,
       "layout": "IPY_MODEL_270a9442984444819d7ae30366908145",
       "max": 3.0,
       "min": -3.0,
       "orientation": "horizontal",
       "readout": true,
       "readout_format": ".2f",
       "step": 0.1,
       "style": "IPY_MODEL_2f19123c4d934f3da29a256fd89c7e06",
       "value": -0.5
      }
     },
     "b1b4629cb56f4926bca872ca3c11310a": {
      "model_module": "@jupyter-widgets/controls",
      "model_module_version": "1.5.0",
      "model_name": "VBoxModel",
      "state": {
       "_dom_classes": [
        "widget-interact"
       ],
       "_model_module": "@jupyter-widgets/controls",
       "_model_module_version": "1.5.0",
       "_model_name": "VBoxModel",
       "_view_count": null,
       "_view_module": "@jupyter-widgets/controls",
       "_view_module_version": "1.5.0",
       "_view_name": "VBoxView",
       "box_style": "",
       "children": [
        "IPY_MODEL_849a0ac8f9ce4d89ad53258b841836ba",
        "IPY_MODEL_25debf4457fd4e72b6018596e88d4668",
        "IPY_MODEL_98fbddf4be7843e4b210eba15fa7309a",
        "IPY_MODEL_9be4dc6879ee4105951ae34669145c57"
       ],
       "layout": "IPY_MODEL_4154ad14f9174e2f8861b863686ec6ca"
      }
     },
     "b6c3530cb7dc48e58e799051992b369f": {
      "model_module": "@jupyter-widgets/base",
      "model_module_version": "1.2.0",
      "model_name": "LayoutModel",
      "state": {
       "_model_module": "@jupyter-widgets/base",
       "_model_module_version": "1.2.0",
       "_model_name": "LayoutModel",
       "_view_count": null,
       "_view_module": "@jupyter-widgets/base",
       "_view_module_version": "1.2.0",
       "_view_name": "LayoutView",
       "align_content": null,
       "align_items": null,
       "align_self": null,
       "border": null,
       "bottom": null,
       "display": null,
       "flex": null,
       "flex_flow": null,
       "grid_area": null,
       "grid_auto_columns": null,
       "grid_auto_flow": null,
       "grid_auto_rows": null,
       "grid_column": null,
       "grid_gap": null,
       "grid_row": null,
       "grid_template_areas": null,
       "grid_template_columns": null,
       "grid_template_rows": null,
       "height": null,
       "justify_content": null,
       "justify_items": null,
       "left": null,
       "margin": null,
       "max_height": null,
       "max_width": null,
       "min_height": null,
       "min_width": null,
       "object_fit": null,
       "object_position": null,
       "order": null,
       "overflow": null,
       "overflow_x": null,
       "overflow_y": null,
       "padding": null,
       "right": null,
       "top": null,
       "visibility": null,
       "width": null
      }
     },
     "d281e18db4084100bbcbb202fb5d46c0": {
      "model_module": "@jupyter-widgets/base",
      "model_module_version": "1.2.0",
      "model_name": "LayoutModel",
      "state": {
       "_model_module": "@jupyter-widgets/base",
       "_model_module_version": "1.2.0",
       "_model_name": "LayoutModel",
       "_view_count": null,
       "_view_module": "@jupyter-widgets/base",
       "_view_module_version": "1.2.0",
       "_view_name": "LayoutView",
       "align_content": null,
       "align_items": null,
       "align_self": null,
       "border": null,
       "bottom": null,
       "display": null,
       "flex": null,
       "flex_flow": null,
       "grid_area": null,
       "grid_auto_columns": null,
       "grid_auto_flow": null,
       "grid_auto_rows": null,
       "grid_column": null,
       "grid_gap": null,
       "grid_row": null,
       "grid_template_areas": null,
       "grid_template_columns": null,
       "grid_template_rows": null,
       "height": null,
       "justify_content": null,
       "justify_items": null,
       "left": null,
       "margin": null,
       "max_height": null,
       "max_width": null,
       "min_height": null,
       "min_width": null,
       "object_fit": null,
       "object_position": null,
       "order": null,
       "overflow": null,
       "overflow_x": null,
       "overflow_y": null,
       "padding": null,
       "right": null,
       "top": null,
       "visibility": null,
       "width": null
      }
     },
     "e6c6cf8234e34ad4ac28ebdf66898d0d": {
      "model_module": "@jupyter-widgets/base",
      "model_module_version": "1.2.0",
      "model_name": "LayoutModel",
      "state": {
       "_model_module": "@jupyter-widgets/base",
       "_model_module_version": "1.2.0",
       "_model_name": "LayoutModel",
       "_view_count": null,
       "_view_module": "@jupyter-widgets/base",
       "_view_module_version": "1.2.0",
       "_view_name": "LayoutView",
       "align_content": null,
       "align_items": null,
       "align_self": null,
       "border": null,
       "bottom": null,
       "display": null,
       "flex": null,
       "flex_flow": null,
       "grid_area": null,
       "grid_auto_columns": null,
       "grid_auto_flow": null,
       "grid_auto_rows": null,
       "grid_column": null,
       "grid_gap": null,
       "grid_row": null,
       "grid_template_areas": null,
       "grid_template_columns": null,
       "grid_template_rows": null,
       "height": null,
       "justify_content": null,
       "justify_items": null,
       "left": null,
       "margin": null,
       "max_height": null,
       "max_width": null,
       "min_height": null,
       "min_width": null,
       "object_fit": null,
       "object_position": null,
       "order": null,
       "overflow": null,
       "overflow_x": null,
       "overflow_y": null,
       "padding": null,
       "right": null,
       "top": null,
       "visibility": null,
       "width": null
      }
     },
     "e80307af00f0498a9514bea1a729f5ec": {
      "model_module": "@jupyter-widgets/base",
      "model_module_version": "1.2.0",
      "model_name": "LayoutModel",
      "state": {
       "_model_module": "@jupyter-widgets/base",
       "_model_module_version": "1.2.0",
       "_model_name": "LayoutModel",
       "_view_count": null,
       "_view_module": "@jupyter-widgets/base",
       "_view_module_version": "1.2.0",
       "_view_name": "LayoutView",
       "align_content": null,
       "align_items": null,
       "align_self": null,
       "border": null,
       "bottom": null,
       "display": null,
       "flex": null,
       "flex_flow": null,
       "grid_area": null,
       "grid_auto_columns": null,
       "grid_auto_flow": null,
       "grid_auto_rows": null,
       "grid_column": null,
       "grid_gap": null,
       "grid_row": null,
       "grid_template_areas": null,
       "grid_template_columns": null,
       "grid_template_rows": null,
       "height": null,
       "justify_content": null,
       "justify_items": null,
       "left": null,
       "margin": null,
       "max_height": null,
       "max_width": null,
       "min_height": null,
       "min_width": null,
       "object_fit": null,
       "object_position": null,
       "order": null,
       "overflow": null,
       "overflow_x": null,
       "overflow_y": null,
       "padding": null,
       "right": null,
       "top": null,
       "visibility": null,
       "width": null
      }
     },
     "ec1abfd40fe94e929e3a998d79b20ffa": {
      "model_module": "@jupyter-widgets/controls",
      "model_module_version": "1.5.0",
      "model_name": "SliderStyleModel",
      "state": {
       "_model_module": "@jupyter-widgets/controls",
       "_model_module_version": "1.5.0",
       "_model_name": "SliderStyleModel",
       "_view_count": null,
       "_view_module": "@jupyter-widgets/base",
       "_view_module_version": "1.2.0",
       "_view_name": "StyleView",
       "description_width": "",
       "handle_color": null
      }
     },
     "fccabc2814d342c38f4216a786ed4f82": {
      "model_module": "@jupyter-widgets/base",
      "model_module_version": "1.2.0",
      "model_name": "LayoutModel",
      "state": {
       "_model_module": "@jupyter-widgets/base",
       "_model_module_version": "1.2.0",
       "_model_name": "LayoutModel",
       "_view_count": null,
       "_view_module": "@jupyter-widgets/base",
       "_view_module_version": "1.2.0",
       "_view_name": "LayoutView",
       "align_content": null,
       "align_items": null,
       "align_self": null,
       "border": null,
       "bottom": null,
       "display": null,
       "flex": null,
       "flex_flow": null,
       "grid_area": null,
       "grid_auto_columns": null,
       "grid_auto_flow": null,
       "grid_auto_rows": null,
       "grid_column": null,
       "grid_gap": null,
       "grid_row": null,
       "grid_template_areas": null,
       "grid_template_columns": null,
       "grid_template_rows": null,
       "height": null,
       "justify_content": null,
       "justify_items": null,
       "left": null,
       "margin": null,
       "max_height": null,
       "max_width": null,
       "min_height": null,
       "min_width": null,
       "object_fit": null,
       "object_position": null,
       "order": null,
       "overflow": null,
       "overflow_x": null,
       "overflow_y": null,
       "padding": null,
       "right": null,
       "top": null,
       "visibility": null,
       "width": null
      }
     }
    },
    "version_major": 2,
    "version_minor": 0
   }
  }
 },
 "nbformat": 4,
 "nbformat_minor": 4
}
